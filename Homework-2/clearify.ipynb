{
 "cells": [
  {
   "cell_type": "code",
   "execution_count": 1,
   "metadata": {},
   "outputs": [
    {
     "name": "stderr",
     "output_type": "stream",
     "text": [
      "[nltk_data] Downloading package punkt to\n",
      "[nltk_data]     C:\\Users\\User\\AppData\\Roaming\\nltk_data...\n",
      "[nltk_data]   Package punkt is already up-to-date!\n"
     ]
    }
   ],
   "source": [
    "import nltk\n",
    "nltk.download('punkt')\n",
    "import string\n",
    "from nltk import tokenize\n",
    "import random\n",
    "from nltk.tokenize import word_tokenize"
   ]
  },
  {
   "cell_type": "code",
   "execution_count": 2,
   "metadata": {},
   "outputs": [],
   "source": [
    "fileR = open('primary.txt', 'r')\n",
    "fileW = open(\"eng-per.txt\", \"a\")\n",
    "lines = fileR.readlines()\n",
    "for i in lines:\n",
    "    head, sep, tail = i.partition('CC')\n",
    "    eng = head.split('\\t', 1)[0]\n",
    "    per = head.split('\\t', 1)[1]\n",
    "    fileW.write(eng +'***'+ per +'\\n')\n",
    "fileW.close()       \n"
   ]
  },
  {
   "cell_type": "code",
   "execution_count": 17,
   "metadata": {},
   "outputs": [
    {
     "ename": "ValueError",
     "evalue": "list.remove(x): x not in list",
     "output_type": "error",
     "traceback": [
      "\u001b[1;31m---------------------------------------------------------------------------\u001b[0m",
      "\u001b[1;31mValueError\u001b[0m                                Traceback (most recent call last)",
      "\u001b[1;32mc:\\Users\\User\\Documents\\NLP-homeworks\\Natural-language-processing-internship\\Homework-2\\clearify.ipynb Cell 3\u001b[0m in \u001b[0;36m<cell line: 4>\u001b[1;34m()\u001b[0m\n\u001b[0;32m      <a href='vscode-notebook-cell:/c%3A/Users/User/Documents/NLP-homeworks/Natural-language-processing-internship/Homework-2/clearify.ipynb#ch0000001?line=4'>5</a>\u001b[0m eng \u001b[39m=\u001b[39m i\u001b[39m.\u001b[39msplit(\u001b[39m'\u001b[39m\u001b[39m\\t\u001b[39;00m\u001b[39m'\u001b[39m)[\u001b[39m0\u001b[39m]\n\u001b[0;32m      <a href='vscode-notebook-cell:/c%3A/Users/User/Documents/NLP-homeworks/Natural-language-processing-internship/Homework-2/clearify.ipynb#ch0000001?line=5'>6</a>\u001b[0m tokens \u001b[39m=\u001b[39m word_tokenize(eng)\n\u001b[1;32m----> <a href='vscode-notebook-cell:/c%3A/Users/User/Documents/NLP-homeworks/Natural-language-processing-internship/Homework-2/clearify.ipynb#ch0000001?line=6'>7</a>\u001b[0m tokens \u001b[39m=\u001b[39m tokens\u001b[39m.\u001b[39;49mremove(\u001b[39m'\u001b[39;49m\u001b[39m!\u001b[39;49m\u001b[39m'\u001b[39;49m)\n\u001b[0;32m      <a href='vscode-notebook-cell:/c%3A/Users/User/Documents/NLP-homeworks/Natural-language-processing-internship/Homework-2/clearify.ipynb#ch0000001?line=7'>8</a>\u001b[0m tokens \u001b[39m=\u001b[39m tokens\u001b[39m.\u001b[39mremove(\u001b[39m'\u001b[39m\u001b[39m.\u001b[39m\u001b[39m'\u001b[39m)\n\u001b[0;32m      <a href='vscode-notebook-cell:/c%3A/Users/User/Documents/NLP-homeworks/Natural-language-processing-internship/Homework-2/clearify.ipynb#ch0000001?line=8'>9</a>\u001b[0m tokens \u001b[39m=\u001b[39m tokens\u001b[39m.\u001b[39mremove(\u001b[39m'\u001b[39m\u001b[39m?\u001b[39m\u001b[39m'\u001b[39m)\n",
      "\u001b[1;31mValueError\u001b[0m: list.remove(x): x not in list"
     ]
    }
   ],
   "source": [
    "fileR = open('engCorpus.txt', 'r')\n",
    "fileW = open('jumble-sort.txt', 'a')\n",
    "lines = fileR.readlines()\n",
    "for i in lines:\n",
    "    eng = i.split('\\t')[0]\n",
    "    tokens = word_tokenize(eng)\n",
    "    shuffle = random.sample(tokens, len(tokens))\n",
    "    shuffles = ' '.join(shuffle)\n",
    "    print(eng,' ', shuffles)\n",
    "    #fileW.write(eng +'\\t'+ shuffles.pu +'\\n')\n",
    "    \n",
    "fileW.close()"
   ]
  }
 ],
 "metadata": {
  "kernelspec": {
   "display_name": "Python 3.9.12 ('base')",
   "language": "python",
   "name": "python3"
  },
  "language_info": {
   "codemirror_mode": {
    "name": "ipython",
    "version": 3
   },
   "file_extension": ".py",
   "mimetype": "text/x-python",
   "name": "python",
   "nbconvert_exporter": "python",
   "pygments_lexer": "ipython3",
   "version": "3.9.12"
  },
  "orig_nbformat": 4,
  "vscode": {
   "interpreter": {
    "hash": "f08154012ddadd8e950e6e9e035c7a7b32c136e7647e9b7c77e02eb723a8bedb"
   }
  }
 },
 "nbformat": 4,
 "nbformat_minor": 2
}
