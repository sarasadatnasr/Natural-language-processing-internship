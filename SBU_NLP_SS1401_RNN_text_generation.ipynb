{
  "cells": [
    {
      "cell_type": "markdown",
      "metadata": {
        "id": "p0BjCLil_9Vo"
      },
      "source": [
        "<img src=\"https://upload.wikimedia.org/wikipedia/commons/thumb/6/6a/Sbu-logo.svg/1200px-Sbu-logo.svg.png\" alt=\"keras\" width=\"150\" height=\"150\">\n",
        "\n",
        "<h1 align=center><font size = 7>NLP Summer School</font></h1>\n",
        "<h1 align=center><font size = 6>NLP Research Lab</font></h1>\n",
        "<h1 align=center><font size = 5>Shahid Beheshti University</font></h1>\n",
        "<h1 align=center><font size = 4> July 2022 </font></h1>"
      ]
    },
    {
      "cell_type": "markdown",
      "metadata": {
        "id": "kgx223ro_9Vu"
      },
      "source": [
        "### Original Repo\n",
        "https://www.kaggle.com/code/ab971631/beginners-guide-to-text-generation-pytorch/notebook"
      ]
    },
    {
      "cell_type": "markdown",
      "metadata": {
        "id": "B_jg5ioBide1"
      },
      "source": [
        "**Import the libraries**"
      ]
    },
    {
      "cell_type": "code",
      "source": [
        "'''\n",
        "RNN_text_generation:\n",
        "استفاده از بافتار از 2 کلمه به 6 کلمه ارتقاء پیدا کند (20)\n",
        "استفاده از روشهای بارگذاری داده متنی (کلاس دیتاست و دیتالودر در پایتورچ) (امتیازی) (10)\n",
        "'''"
      ],
      "metadata": {
        "colab": {
          "base_uri": "https://localhost:8080/",
          "height": 53
        },
        "id": "M4cL0tcxClYi",
        "outputId": "c9d2813f-25f8-4675-fa5a-487637c8f83d"
      },
      "execution_count": 1,
      "outputs": [
        {
          "output_type": "execute_result",
          "data": {
            "text/plain": [
              "'\\nRNN_text_generation:\\nاستفاده از بافتار از 2 کلمه به 6 کلمه ارتقاء پیدا کند (20)\\nاستفاده از روشهای بارگذاری داده متنی (کلاس دیتاست و دیتالودر در پایتورچ) (امتیازی) (10)\\n'"
            ],
            "application/vnd.google.colaboratory.intrinsic+json": {
              "type": "string"
            }
          },
          "metadata": {},
          "execution_count": 1
        }
      ]
    },
    {
      "cell_type": "code",
      "execution_count": 14,
      "metadata": {
        "id": "_JUjWgepi9Y1",
        "colab": {
          "base_uri": "https://localhost:8080/",
          "height": 557
        },
        "outputId": "a6ccb765-22c1-40d5-f8a0-93528916b14e"
      },
      "outputs": [
        {
          "output_type": "stream",
          "name": "stdout",
          "text": [
            "Looking in indexes: https://pypi.org/simple, https://us-python.pkg.dev/colab-wheels/public/simple/\n",
            "Collecting torchdata\n",
            "  Downloading torchdata-0.4.0-cp37-cp37m-manylinux2014_x86_64.whl (4.4 MB)\n",
            "\u001b[K     |████████████████████████████████| 4.4 MB 7.3 MB/s \n",
            "\u001b[?25hRequirement already satisfied: requests in /usr/local/lib/python3.7/dist-packages (from torchdata) (2.23.0)\n",
            "Requirement already satisfied: torch==1.12.0 in /usr/local/lib/python3.7/dist-packages (from torchdata) (1.12.0+cu113)\n",
            "Collecting portalocker>=2.0.0\n",
            "  Downloading portalocker-2.5.1-py2.py3-none-any.whl (15 kB)\n",
            "Collecting urllib3>=1.25\n",
            "  Downloading urllib3-1.26.10-py2.py3-none-any.whl (139 kB)\n",
            "\u001b[K     |████████████████████████████████| 139 kB 71.5 MB/s \n",
            "\u001b[?25hRequirement already satisfied: typing-extensions in /usr/local/lib/python3.7/dist-packages (from torch==1.12.0->torchdata) (4.1.1)\n",
            "Requirement already satisfied: idna<3,>=2.5 in /usr/local/lib/python3.7/dist-packages (from requests->torchdata) (2.10)\n",
            "  Downloading urllib3-1.25.11-py2.py3-none-any.whl (127 kB)\n",
            "\u001b[K     |████████████████████████████████| 127 kB 67.0 MB/s \n",
            "\u001b[?25hRequirement already satisfied: certifi>=2017.4.17 in /usr/local/lib/python3.7/dist-packages (from requests->torchdata) (2022.6.15)\n",
            "Requirement already satisfied: chardet<4,>=3.0.2 in /usr/local/lib/python3.7/dist-packages (from requests->torchdata) (3.0.4)\n",
            "Installing collected packages: urllib3, portalocker, torchdata\n",
            "  Attempting uninstall: urllib3\n",
            "    Found existing installation: urllib3 1.24.3\n",
            "    Uninstalling urllib3-1.24.3:\n",
            "      Successfully uninstalled urllib3-1.24.3\n",
            "\u001b[31mERROR: pip's dependency resolver does not currently take into account all the packages that are installed. This behaviour is the source of the following dependency conflicts.\n",
            "datascience 0.10.6 requires folium==0.2.1, but you have folium 0.8.3 which is incompatible.\u001b[0m\n",
            "Successfully installed portalocker-2.5.1 torchdata-0.4.0 urllib3-1.25.11\n"
          ]
        },
        {
          "output_type": "display_data",
          "data": {
            "application/vnd.colab-display-data+json": {
              "pip_warning": {
                "packages": [
                  "urllib3"
                ]
              }
            }
          },
          "metadata": {}
        }
      ],
      "source": [
        "!pip install unidecode -q\n",
        "!pip install hazm -q\n",
        "!pip install torchdata"
      ]
    },
    {
      "cell_type": "markdown",
      "metadata": {
        "id": "OgckTxH__9V2"
      },
      "source": [
        "Who wants to add something about the Linux directives we can exploit?"
      ]
    },
    {
      "cell_type": "code",
      "execution_count": 12,
      "metadata": {
        "_cell_guid": "b1076dfc-b9ad-4769-8c92-a6c4dae69d19",
        "_uuid": "8f2839f25d086af736a60e9eeb907d3b93b6e0e5",
        "execution": {
          "iopub.execute_input": "2022-07-14T16:01:42.621790Z",
          "iopub.status.busy": "2022-07-14T16:01:42.621498Z",
          "iopub.status.idle": "2022-07-14T16:01:45.424397Z",
          "shell.execute_reply": "2022-07-14T16:01:45.423686Z",
          "shell.execute_reply.started": "2022-07-14T16:01:42.621740Z"
        },
        "id": "vQ3-bxXaide2"
      },
      "outputs": [],
      "source": [
        "import numpy as np\n",
        "import pandas as pd\n",
        "import matplotlib.pyplot as plt\n",
        "import nltk\n",
        "import string\n",
        "import unidecode\n",
        "import random\n",
        "import torch\n",
        "from hazm import stopwords_list\n",
        "from hazm import Lemmatizer\n",
        "from tqdm import tqdm\n",
        "import torch"
      ]
    },
    {
      "cell_type": "code",
      "execution_count": 4,
      "metadata": {
        "colab": {
          "base_uri": "https://localhost:8080/"
        },
        "execution": {
          "iopub.execute_input": "2022-07-14T16:01:45.426061Z",
          "iopub.status.busy": "2022-07-14T16:01:45.425772Z",
          "iopub.status.idle": "2022-07-14T16:01:45.505366Z",
          "shell.execute_reply": "2022-07-14T16:01:45.504265Z",
          "shell.execute_reply.started": "2022-07-14T16:01:45.426016Z"
        },
        "id": "EKHWK0K1ide3",
        "outputId": "e0e152df-4547-4782-cac8-60040b776f53"
      },
      "outputs": [
        {
          "output_type": "stream",
          "name": "stdout",
          "text": [
            "Training on GPU!\n"
          ]
        }
      ],
      "source": [
        "# Check if GPU is available\n",
        "train_on_gpu = torch.cuda.is_available()\n",
        "if(train_on_gpu):\n",
        "    print('Training on GPU!')\n",
        "else: \n",
        "    print('No GPU available, training on CPU; consider making n_epochs very small.')"
      ]
    },
    {
      "cell_type": "markdown",
      "metadata": {
        "id": "w6h5P9Dbide4"
      },
      "source": [
        "**Load the dataset**"
      ]
    },
    {
      "cell_type": "code",
      "execution_count": 7,
      "metadata": {
        "_cell_guid": "79c7e3d0-c299-4dcb-8224-4455121ee9b0",
        "_uuid": "d629ff2d2480ee46fbb7e2d37f6b5fab8052498a",
        "execution": {
          "iopub.execute_input": "2022-07-14T16:05:20.171365Z",
          "iopub.status.busy": "2022-07-14T16:05:20.171089Z",
          "iopub.status.idle": "2022-07-14T16:05:20.280324Z",
          "shell.execute_reply": "2022-07-14T16:05:20.279689Z",
          "shell.execute_reply.started": "2022-07-14T16:05:20.171316Z"
        },
        "id": "2l5EPpoRide6"
      },
      "outputs": [],
      "source": [
        "path = './voa_fa_2003-2008_orig.txt'\n",
        "with open(path, 'r', encoding='utf-8') as f:\n",
        "    text = ' '.join([line.strip() for line in f.readlines() if not line.startswith('#')])\n",
        "    text = text.split('.')\n",
        "    text = random.sample(text, 150)\n"
      ]
    },
    {
      "cell_type": "code",
      "source": [
        "# importing the required libraries\n",
        "import torch\n",
        "from torch.utils.data import Dataset\n",
        "from torch.utils.data import DataLoader\n",
        "\n",
        "# defining the Dataset class\n",
        "class data_set(Dataset):\n",
        "\tdef __init__(self):\n",
        "\t\tnumbers = list(range(0, 100, 1))\n",
        "\t\tself.data = numbers\n",
        "\n",
        "\tdef __len__(self):\n",
        "\t\treturn len(self.data)\n",
        "\n",
        "\tdef __getitem__(self, index):\n",
        "\t\treturn self.data[index]\n",
        "\n",
        "\n",
        "dataset = data_set()\n",
        "\n",
        "# implementing dataloader on the dataset and printing per batch\n",
        "dataloader = DataLoader(dataset, batch_size=10, shuffle=True)\n",
        "for i, batch in enumerate(dataloader):\n",
        "\tprint(i, batch)\n"
      ],
      "metadata": {
        "colab": {
          "base_uri": "https://localhost:8080/"
        },
        "id": "4Vb65B0QCxaR",
        "outputId": "959e9a28-8caf-4c9a-a4ae-fdffced1dba3"
      },
      "execution_count": 18,
      "outputs": [
        {
          "output_type": "stream",
          "name": "stdout",
          "text": [
            "0 tensor([21,  3, 60, 35, 36,  9, 25, 29, 73, 70])\n",
            "1 tensor([98,  1, 17, 65, 13, 76, 50, 87, 79, 24])\n",
            "2 tensor([69, 51, 53, 22, 61, 26, 37, 71, 55, 74])\n",
            "3 tensor([97, 66, 91, 14, 68,  0, 82, 11, 92, 72])\n",
            "4 tensor([19, 99, 94, 47, 90, 78, 10, 20, 42, 83])\n",
            "5 tensor([15, 81, 52, 41, 16, 59, 18, 85, 48, 45])\n",
            "6 tensor([56, 44, 27,  6, 80, 75, 63, 58, 57, 31])\n",
            "7 tensor([67, 46, 96, 43, 23, 62,  5,  4, 95,  2])\n",
            "8 tensor([88, 28, 39, 54,  8, 34, 30, 89, 32,  7])\n",
            "9 tensor([93, 86, 64, 84, 77, 12, 40, 38, 49, 33])\n"
          ]
        }
      ]
    },
    {
      "cell_type": "markdown",
      "metadata": {
        "id": "5Im9zMXqide7"
      },
      "source": [
        "**Dataset cleaning**"
      ]
    },
    {
      "cell_type": "code",
      "execution_count": null,
      "metadata": {
        "colab": {
          "base_uri": "https://localhost:8080/"
        },
        "execution": {
          "iopub.execute_input": "2022-07-14T16:05:24.186912Z",
          "iopub.status.busy": "2022-07-14T16:05:24.186638Z",
          "iopub.status.idle": "2022-07-14T16:05:24.197476Z",
          "shell.execute_reply": "2022-07-14T16:05:24.196849Z",
          "shell.execute_reply.started": "2022-07-14T16:05:24.186864Z"
        },
        "id": "dwQBA4BMide8",
        "outputId": "4bbbc921-fde8-413d-ed44-31c14d34fe10"
      },
      "outputs": [
        {
          "output_type": "execute_result",
          "data": {
            "text/plain": [
              "4018"
            ]
          },
          "metadata": {},
          "execution_count": 5
        }
      ],
      "source": [
        "def joinStrings(text):\n",
        "    return ' '.join(string for string in text)\n",
        "text = joinStrings(text)\n",
        "len(text.split())"
      ]
    },
    {
      "cell_type": "code",
      "execution_count": null,
      "metadata": {
        "execution": {
          "iopub.execute_input": "2022-07-14T16:05:27.193997Z",
          "iopub.status.busy": "2022-07-14T16:05:27.193708Z",
          "iopub.status.idle": "2022-07-14T16:05:29.145556Z",
          "shell.execute_reply": "2022-07-14T16:05:29.144854Z",
          "shell.execute_reply.started": "2022-07-14T16:05:27.193946Z"
        },
        "id": "7u0DkdhTide8"
      },
      "outputs": [],
      "source": [
        "\n",
        "stop = set(stopwords_list())\n",
        "exclude = set(string.punctuation) \n",
        "lemma = lemmatizer = Lemmatizer()\n",
        "def clean(doc):\n",
        "        stop_free = \" \".join([i for i in doc.split() if i not in stop])\n",
        "        punc_free = \"\".join(ch for ch in stop_free if ch not in exclude)\n",
        "        # normalized = \" \".join(lemma.lemmatize(word) for word in punc_free.split())\n",
        "        return punc_free\n",
        "test_sentence = clean(text).lower().split()"
      ]
    },
    {
      "cell_type": "markdown",
      "metadata": {
        "id": "ErLa0Vhmide9"
      },
      "source": [
        "> **N-Gram Language Modeling**\n",
        "\n",
        "Recall that in an n-gram language model, given a sequence of words w, we want to compute.\n",
        "                                      * P(wi|wi−1,wi−2,…,wi−n+1)                                                     \n",
        "Where wi is the ith word of the sequence.                                                                              here we will take n=2."
      ]
    },
    {
      "cell_type": "code",
      "execution_count": null,
      "metadata": {
        "colab": {
          "base_uri": "https://localhost:8080/"
        },
        "execution": {
          "iopub.execute_input": "2022-07-14T16:05:54.842133Z",
          "iopub.status.busy": "2022-07-14T16:05:54.841866Z",
          "iopub.status.idle": "2022-07-14T16:05:54.848595Z",
          "shell.execute_reply": "2022-07-14T16:05:54.847514Z",
          "shell.execute_reply.started": "2022-07-14T16:05:54.842088Z"
        },
        "id": "UOzsTkO9ide-",
        "outputId": "ebd7a2af-0ff0-4341-96ed-9d16325e113b"
      },
      "outputs": [
        {
          "output_type": "stream",
          "name": "stdout",
          "text": [
            "[(['مقامات،', 'بنظر'], 'ميرسد'), (['بنظر', 'ميرسد'], 'اين'), (['ميرسد', 'اين'], 'انفجارهائی'), (['اين', 'انفجارهائی'], 'هفته'), (['انفجارهائی', 'هفته'], 'گذشته'), (['هفته', 'گذشته'], 'ماه')]\n"
          ]
        }
      ],
      "source": [
        "'''\n",
        "trigrams = [([test_sentence[i], test_sentence[i + 1]], test_sentence[i + 2])\n",
        "            for i in range(len(test_sentence) - 2)]\n",
        "chunk_len=len(trigrams)\n",
        "print(trigrams[:6])\n",
        "'''\n",
        "\n",
        "#The use of context should be improved from 2 words to 6 words (20)\n",
        "sevengrams = [([test_sentence[i], test_sentence[i + 1],\n",
        "                test_sentence[i + 2], test_sentence[i + 3],test_sentence[i + 4],\n",
        "                test_sentence[i + 5]],test_sentence[i + 6])\n",
        "               \n",
        "            for i in range(len(test_sentence) - 6)]\n",
        "chunk_len=len(sevengrams)\n",
        "print(sevengrams[:6])"
      ]
    },
    {
      "cell_type": "markdown",
      "source": [
        "Adding more context! "
      ],
      "metadata": {
        "id": "ioAB7yjSCvpo"
      }
    },
    {
      "cell_type": "code",
      "execution_count": null,
      "metadata": {
        "execution": {
          "iopub.execute_input": "2022-07-14T16:06:01.296981Z",
          "iopub.status.busy": "2022-07-14T16:06:01.296712Z",
          "iopub.status.idle": "2022-07-14T16:06:01.301791Z",
          "shell.execute_reply": "2022-07-14T16:06:01.300553Z",
          "shell.execute_reply.started": "2022-07-14T16:06:01.296934Z"
        },
        "id": "RG6CU-h9ide-"
      },
      "outputs": [],
      "source": [
        "vocab = set(test_sentence)\n",
        "voc_len=len(vocab)\n",
        "word_to_ix = {word: i for i, word in enumerate(vocab)}\n"
      ]
    },
    {
      "cell_type": "code",
      "execution_count": null,
      "metadata": {
        "colab": {
          "base_uri": "https://localhost:8080/"
        },
        "id": "CU0mB6JkmgIJ",
        "outputId": "b8d2ff19-ed02-48e1-f830-eeb196836d4e"
      },
      "outputs": [
        {
          "output_type": "execute_result",
          "data": {
            "text/plain": [
              "1576"
            ]
          },
          "metadata": {},
          "execution_count": 9
        }
      ],
      "source": [
        "len(vocab)"
      ]
    },
    {
      "cell_type": "code",
      "execution_count": null,
      "metadata": {
        "execution": {
          "iopub.execute_input": "2022-07-14T16:06:02.412874Z",
          "iopub.status.busy": "2022-07-14T16:06:02.412600Z",
          "iopub.status.idle": "2022-07-14T16:06:02.437505Z",
          "shell.execute_reply": "2022-07-14T16:06:02.436920Z",
          "shell.execute_reply.started": "2022-07-14T16:06:02.412828Z"
        },
        "id": "qyhIn8qride_"
      },
      "outputs": [],
      "source": [
        "inp=[]\n",
        "tar=[]\n",
        "for context, target in trigrams:\n",
        "        context_idxs = torch.tensor([word_to_ix[w] for w in context], dtype=torch.long)\n",
        "        inp.append(context_idxs)\n",
        "        targ = torch.tensor([word_to_ix[target]], dtype=torch.long)\n",
        "        tar.append(targ)"
      ]
    },
    {
      "cell_type": "markdown",
      "metadata": {
        "id": "x2r2K3fmide_"
      },
      "source": [
        "**RNN model for Text Generation**"
      ]
    },
    {
      "cell_type": "code",
      "execution_count": null,
      "metadata": {
        "execution": {
          "iopub.execute_input": "2022-07-14T16:06:38.686648Z",
          "iopub.status.busy": "2022-07-14T16:06:38.686358Z",
          "iopub.status.idle": "2022-07-14T16:06:38.693884Z",
          "shell.execute_reply": "2022-07-14T16:06:38.693124Z",
          "shell.execute_reply.started": "2022-07-14T16:06:38.686592Z"
        },
        "id": "10CnMxKYide_"
      },
      "outputs": [],
      "source": [
        "import torch\n",
        "import torch.nn as nn\n",
        "from torch.autograd import Variable\n",
        "\n",
        "class RNN(nn.Module):\n",
        "    def __init__(self, input_size, hidden_size, output_size, n_layers=1):\n",
        "        super(RNN, self).__init__()\n",
        "        self.input_size = input_size\n",
        "        self.hidden_size = hidden_size\n",
        "        self.output_size = output_size\n",
        "        self.n_layers = n_layers\n",
        "        \n",
        "        self.encoder = nn.Embedding(input_size, hidden_size)\n",
        "        self.rnn = nn.RNN(hidden_size*2, hidden_size, n_layers, batch_first=True,\n",
        "                          bidirectional=False)\n",
        "        self.decoder = nn.Linear(hidden_size, output_size)\n",
        "    \n",
        "    def forward(self, input, hidden):\n",
        "        input = self.encoder(input.view(1, -1))\n",
        "        output, hidden = self.rnn(input.view(1, 1, -1), hidden)\n",
        "        output = self.decoder(output.view(1, -1))\n",
        "        return output, hidden\n",
        "\n",
        "    def init_hidden(self):\n",
        "        return Variable(torch.zeros(self.n_layers, 1, self.hidden_size))"
      ]
    },
    {
      "cell_type": "markdown",
      "source": [
        "How embedding layer works?\n"
      ],
      "metadata": {
        "id": "plJh4TPSDA4-"
      }
    },
    {
      "cell_type": "code",
      "execution_count": null,
      "metadata": {
        "execution": {
          "iopub.execute_input": "2022-07-14T16:06:51.567699Z",
          "iopub.status.busy": "2022-07-14T16:06:51.567394Z",
          "iopub.status.idle": "2022-07-14T16:06:51.573095Z",
          "shell.execute_reply": "2022-07-14T16:06:51.572219Z",
          "shell.execute_reply.started": "2022-07-14T16:06:51.567639Z"
        },
        "id": "9b58aVYridfA"
      },
      "outputs": [],
      "source": [
        "def train(inp, target):\n",
        "    hidden = decoder.init_hidden().cuda()\n",
        "    decoder.zero_grad()\n",
        "    loss = 0\n",
        "    \n",
        "    for c in range(chunk_len):\n",
        "        output, hidden = decoder(inp[c].cuda(), hidden)\n",
        "        loss += criterion(output, target[c].cuda())\n",
        "\n",
        "    loss.backward()\n",
        "    decoder_optimizer.step()\n",
        "\n",
        "    return loss.data.item() / chunk_len"
      ]
    },
    {
      "cell_type": "code",
      "execution_count": null,
      "metadata": {
        "execution": {
          "iopub.execute_input": "2022-07-14T16:06:59.286401Z",
          "iopub.status.busy": "2022-07-14T16:06:59.286089Z",
          "iopub.status.idle": "2022-07-14T16:06:59.291879Z",
          "shell.execute_reply": "2022-07-14T16:06:59.290777Z",
          "shell.execute_reply.started": "2022-07-14T16:06:59.286350Z"
        },
        "id": "qfHCE3O1idfA"
      },
      "outputs": [],
      "source": [
        "import time, math\n",
        "\n",
        "def time_since(since):\n",
        "    s = time.time() - since\n",
        "    m = math.floor(s / 60)\n",
        "    s -= m * 60\n",
        "    return '%dm %ds' % (m, s)"
      ]
    },
    {
      "cell_type": "code",
      "execution_count": null,
      "metadata": {
        "colab": {
          "base_uri": "https://localhost:8080/"
        },
        "execution": {
          "iopub.execute_input": "2022-07-14T16:07:10.182881Z",
          "iopub.status.busy": "2022-07-14T16:07:10.182538Z",
          "iopub.status.idle": "2022-07-14T16:13:34.683169Z",
          "shell.execute_reply": "2022-07-14T16:13:34.682353Z",
          "shell.execute_reply.started": "2022-07-14T16:07:10.182830Z"
        },
        "id": "y2rCSK4TidfB",
        "outputId": "bdfd8b0d-2e50-4bfd-bca3-e4edd6794d2c"
      },
      "outputs": [
        {
          "output_type": "stream",
          "name": "stderr",
          "text": [
            "Training ...: 100%|██████████| 300/300 [08:55<00:00,  1.79s/it]\n"
          ]
        }
      ],
      "source": [
        "n_epochs = 300\n",
        "print_every = 100\n",
        "plot_every = 10\n",
        "hidden_size = 100\n",
        "n_layers = 1\n",
        "lr = 0.015\n",
        "\n",
        "decoder = RNN(voc_len, hidden_size, voc_len, n_layers)\n",
        "decoder_optimizer = torch.optim.Adam(decoder.parameters(), lr=lr)\n",
        "criterion = nn.CrossEntropyLoss()\n",
        "\n",
        "start = time.time()\n",
        "all_losses = []\n",
        "loss_avg = 0\n",
        "if(train_on_gpu):\n",
        "    decoder.cuda()\n",
        "for _, epoch in tqdm(enumerate(range(1, n_epochs + 1)), desc='Training ...', total=n_epochs):\n",
        "    loss = train(inp,tar)       \n",
        "    loss_avg += loss\n",
        "\n",
        "\n",
        "    if epoch % plot_every == 0:\n",
        "        all_losses.append(loss_avg / plot_every)\n",
        "        loss_avg = 0"
      ]
    },
    {
      "cell_type": "code",
      "execution_count": null,
      "metadata": {
        "colab": {
          "base_uri": "https://localhost:8080/",
          "height": 283
        },
        "execution": {
          "iopub.execute_input": "2022-07-14T16:25:09.686546Z",
          "iopub.status.busy": "2022-07-14T16:25:09.686237Z",
          "iopub.status.idle": "2022-07-14T16:25:09.952465Z",
          "shell.execute_reply": "2022-07-14T16:25:09.951654Z",
          "shell.execute_reply.started": "2022-07-14T16:25:09.686479Z"
        },
        "id": "T1FaSEYvidfB",
        "outputId": "614f0e2d-a67d-44cb-98ef-b8ee66dcdbcd"
      },
      "outputs": [
        {
          "output_type": "execute_result",
          "data": {
            "text/plain": [
              "[<matplotlib.lines.Line2D at 0x7fe1028a8a50>]"
            ]
          },
          "metadata": {},
          "execution_count": 16
        },
        {
          "output_type": "display_data",
          "data": {
            "text/plain": [
              "<Figure size 432x288 with 1 Axes>"
            ],
            "image/png": "[encoded data removed]"
          },
          "metadata": {
            "needs_background": "light"
          }
        }
      ],
      "source": [
        "import matplotlib.pyplot as plt\n",
        "import matplotlib.ticker as ticker\n",
        "%matplotlib inline\n",
        "\n",
        "plt.figure()\n",
        "plt.plot(all_losses)"
      ]
    },
    {
      "cell_type": "markdown",
      "metadata": {
        "id": "wfHx_oPEidfC"
      },
      "source": [
        "**Generating the text**"
      ]
    },
    {
      "cell_type": "code",
      "execution_count": null,
      "metadata": {
        "execution": {
          "iopub.execute_input": "2022-07-14T16:25:58.375749Z",
          "iopub.status.busy": "2022-07-14T16:25:58.375451Z",
          "iopub.status.idle": "2022-07-14T16:25:58.382305Z",
          "shell.execute_reply": "2022-07-14T16:25:58.381437Z",
          "shell.execute_reply.started": "2022-07-14T16:25:58.375698Z"
        },
        "id": "qfZFqxCGidfC"
      },
      "outputs": [],
      "source": [
        "def evaluate(prime_str='this process', predict_len=100, temperature=0.8):\n",
        "    hidden = decoder.init_hidden().cuda()\n",
        "    for p in range(predict_len):\n",
        "        \n",
        "        prime_input = torch.tensor([word_to_ix[w] for w in prime_str.split()], dtype=torch.long).cuda()\n",
        "        # print(prime_input)\n",
        "        inp = prime_input[-2:] #last two words as input\n",
        "        output, hidden = decoder(inp, hidden)\n",
        "        \n",
        "        # Sample from the network as a multinomial distribution\n",
        "        output_dist = output.data.view(-1).div(temperature).exp()\n",
        "        top_i = torch.multinomial(output_dist, 1)[0]\n",
        "        \n",
        "        # Add predicted word to string and use as next input\n",
        "        predicted_word = list(word_to_ix.keys())[list(word_to_ix.values()).index(top_i)]\n",
        "        prime_str += \" \" + predicted_word\n",
        "#         inp = torch.tensor(word_to_ix[predicted_word], dtype=torch.long)\n",
        "\n",
        "    return prime_str"
      ]
    },
    {
      "cell_type": "code",
      "execution_count": null,
      "metadata": {
        "colab": {
          "base_uri": "https://localhost:8080/"
        },
        "execution": {
          "iopub.execute_input": "2022-07-14T16:26:00.250826Z",
          "iopub.status.busy": "2022-07-14T16:26:00.250522Z",
          "iopub.status.idle": "2022-07-14T16:26:00.750120Z",
          "shell.execute_reply": "2022-07-14T16:26:00.749344Z",
          "shell.execute_reply.started": "2022-07-14T16:26:00.250773Z"
        },
        "id": "KpL4WJ7VidfC",
        "outputId": "197071e4-145c-49d1-915c-d849552c864d"
      },
      "outputs": [
        {
          "output_type": "stream",
          "name": "stdout",
          "text": [
            "اين بنظر ميرسد اين انفجارهائی هفته گذشته ماه مارس کازابلانکا رخ داد، مشارکت اين سياستها جامعه جهانی همخوانی برقراری روابط مثبت ميان مردم ايران مردم آمريکاو کشورهای ديگر جهان مانع ايجاد ميکند جمهوری خواهان کنگره هفته گذشته موفق تصويب لايحه مشابهی مجلس\n"
          ]
        }
      ],
      "source": [
        "startwith = 'اين بنظر'\n",
        "print(evaluate(startwith, 40, temperature=1))"
      ]
    },
    {
      "cell_type": "markdown",
      "source": [
        "How temperature parameter relates to the random parameter in the N-gram example?"
      ],
      "metadata": {
        "id": "idJbiRYNE883"
      }
    },
    {
      "cell_type": "code",
      "source": [
        ""
      ],
      "metadata": {
        "id": "_i5b8TUUE9cT"
      },
      "execution_count": null,
      "outputs": []
    }
  ],
  "metadata": {
    "accelerator": "GPU",
    "colab": {
      "name": "SBU_NLP_SS1401_RNN_text_generation.ipynb",
      "provenance": [],
      "collapsed_sections": []
    },
    "gpuClass": "standard",
    "kernelspec": {
      "display_name": "Python 3",
      "language": "python",
      "name": "python3"
    },
    "language_info": {
      "codemirror_mode": {
        "name": "ipython",
        "version": 3
      },
      "file_extension": ".py",
      "mimetype": "text/x-python",
      "name": "python",
      "nbconvert_exporter": "python",
      "pygments_lexer": "ipython3",
      "version": "3.8.10"
    }
  },
  "nbformat": 4,
  "nbformat_minor": 0
}