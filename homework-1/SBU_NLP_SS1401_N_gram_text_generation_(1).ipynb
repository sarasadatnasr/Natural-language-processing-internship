{
  "cells": [
    {
      "cell_type": "markdown",
      "id": "6596167c",
      "metadata": {
        "id": "6596167c"
      },
      "source": [
        "<img src=\"https://upload.wikimedia.org/wikipedia/commons/thumb/6/6a/Sbu-logo.svg/1200px-Sbu-logo.svg.png\" alt=\"keras\" width=\"150\" height=\"150\">\n",
        "\n",
        "<h1 align=center><font size = 7>NLP Summer School</font></h1>\n",
        "<h1 align=center><font size = 6>NLP Research Lab</font></h1>\n",
        "<h1 align=center><font size = 5>Shahid Beheshti University</font></h1>\n",
        "<h1 align=center><font size = 4> July 2022 </font></h1>"
      ]
    },
    {
      "cell_type": "markdown",
      "id": "c417e528",
      "metadata": {
        "id": "c417e528"
      },
      "source": [
        "## Original Repo\n",
        "https://github.com/olegborisovv/NGram_LanguageModel"
      ]
    },
    {
      "cell_type": "code",
      "execution_count": null,
      "id": "878f2981",
      "metadata": {
        "colab": {
          "base_uri": "https://localhost:8080/",
          "height": 122
        },
        "id": "878f2981",
        "outputId": "3a3e1ee9-f21f-4c82-c978-acfb3c7d98c8"
      },
      "outputs": [
        {
          "output_type": "execute_result",
          "data": {
            "text/plain": [
              "'\\nN-gram_text_generation:\\n(بایستی قسمت مربوط به اسموتینگ پیاده سازی شود. (10\\nراهکار شبهه بیم سرچ برای تولید متن (10)\\n\\nRNN_text_generation:\\nاستفاده از بافتار از 2 کلمه به 6 کلمه ارتقاء پیدا کند (20)\\nاستفاده از روشهای بارگذاری داده متنی (کلاس دیتاست و دیتالودر در پایتورچ) (امتیازی) (10)\\nRNN_vs_LSTM_vs_GRU:\\nهر کدام از مدل ها به چند لایه (استکد) بروزرسانی شوند - دراپ اوت، دنس لیر و ... اضافه بشود در صورت لزوم (15)\\nدقت به بیش از 92 درصد برسد روی داده تست (15)\\nseq2seq_translation_tutorial:\\nیک مدل دیگر از مکانیزم توجه پیاده سازی شود - مکانیزم فعلی بر اساس ضرب داخلی عمل میکند (15)\\nCNN_Text_Classification:\\nاین معماری با یک مدل سکوئنشیال (GRU, LSTM, RNN) ترکیب شود. (15)\\nمهلت ارسال: ۱۲ شب ۳۱ تیر ماه'"
            ],
            "application/vnd.google.colaboratory.intrinsic+json": {
              "type": "string"
            }
          },
          "metadata": {},
          "execution_count": 47
        }
      ],
      "source": [
        "'''\n",
        "N-gram_text_generation:\n",
        "(بایستی قسمت مربوط به اسموتینگ پیاده سازی شود. (10\n",
        "راهکار شبهه بیم سرچ برای تولید متن (10)\n",
        "\n",
        "RNN_text_generation:\n",
        "استفاده از بافتار از 2 کلمه به 6 کلمه ارتقاء پیدا کند (20)\n",
        "استفاده از روشهای بارگذاری داده متنی (کلاس دیتاست و دیتالودر در پایتورچ) (امتیازی) (10)\n",
        "RNN_vs_LSTM_vs_GRU:\n",
        "هر کدام از مدل ها به چند لایه (استکد) بروزرسانی شوند - دراپ اوت، دنس لیر و ... اضافه بشود در صورت لزوم (15)\n",
        "دقت به بیش از 92 درصد برسد روی داده تست (15)\n",
        "seq2seq_translation_tutorial:\n",
        "یک مدل دیگر از مکانیزم توجه پیاده سازی شود - مکانیزم فعلی بر اساس ضرب داخلی عمل میکند (15)\n",
        "CNN_Text_Classification:\n",
        "این معماری با یک مدل سکوئنشیال (GRU, LSTM, RNN) ترکیب شود. (15)\n",
        "مهلت ارسال: ۱۲ شب ۳۱ تیر ماه'''"
      ]
    },
    {
      "cell_type": "code",
      "execution_count": null,
      "id": "4f2db283",
      "metadata": {
        "id": "4f2db283"
      },
      "outputs": [],
      "source": [
        "import string\n",
        "import random\n",
        "import time\n",
        "from typing import List"
      ]
    },
    {
      "cell_type": "code",
      "execution_count": null,
      "id": "e3513278",
      "metadata": {
        "id": "e3513278"
      },
      "outputs": [],
      "source": [
        "# ideally we would use some smart text tokenizer, but for simplicity use this one\n",
        "def tokenize(text: str) -> List[str]:\n",
        "    \"\"\"\n",
        "    :param text: Takes input sentence\n",
        "    :return: tokenized sentence\n",
        "    \"\"\"\n",
        "    for punct in string.punctuation:\n",
        "        text = text.replace(punct, ' '+punct+' ')\n",
        "    t = text.split()\n",
        "    \n",
        "    return t"
      ]
    },
    {
      "cell_type": "code",
      "execution_count": null,
      "id": "e8a8d02d",
      "metadata": {
        "id": "e8a8d02d"
      },
      "outputs": [],
      "source": [
        "def get_ngrams(n: int, tokens: list) -> list:\n",
        "    \"\"\"\n",
        "    :param n: n-gram size\n",
        "    :param tokens: tokenized sentence\n",
        "    :return: list of ngrams\n",
        "\n",
        "    ngrams of tuple form: ((previous wordS!), target word)\n",
        "    \"\"\"\n",
        "    # tokens.append('<END>')\n",
        "    tokens = (n-1)*['<START>']+tokens\n",
        "    l = [(tuple([tokens[i-p-1] for p in reversed(range(n-1))]), tokens[i]) for i in range(n-1, len(tokens))]\n",
        "    return l"
      ]
    },
    {
      "cell_type": "code",
      "execution_count": null,
      "id": "e7db58d5",
      "metadata": {
        "id": "e7db58d5"
      },
      "outputs": [],
      "source": [
        "class NgramModel(object):\n",
        "\n",
        "  def __init__(self, n):\n",
        "        self.n = n\n",
        "\n",
        "        # dictionary that keeps list of candidate words given context\n",
        "        self.context = {}\n",
        "\n",
        "        # keeps track of how many times ngram has appeared in the text before\n",
        "        self.ngram_counter = {}\n",
        "\n",
        "  def update(self, sentence: str) -> None:\n",
        "        \"\"\"\n",
        "        Updates Language Model\n",
        "        :param sentence: input text\n",
        "        \"\"\"\n",
        "        n = self.n\n",
        "        ngrams = get_ngrams(n, tokenize(sentence))\n",
        "        for ngram in ngrams:\n",
        "            if ngram in self.ngram_counter:\n",
        "                self.ngram_counter[ngram] += 1.0\n",
        "            else:\n",
        "                self.ngram_counter[ngram] = 1.0\n",
        "\n",
        "            prev_words, target_word = ngram\n",
        "            if prev_words in self.context:\n",
        "                self.context[prev_words].append(target_word)\n",
        "            else:\n",
        "                self.context[prev_words] = [target_word]\n",
        "\n",
        "    # remove try-catch\n",
        "  '''\n",
        "  def prob(self, context, token):\n",
        "        Calculates probability of a candidate token to be generated given a context\n",
        "        :return: conditional probability\n",
        "      try:\n",
        "            count_of_token = self.ngram_counter[(context, token)]\n",
        "            count_of_context = float(len(self.context[context]))\n",
        "            result = count_of_token / count_of_context\n",
        "        except KeyError:\n",
        "            result = 0.0\n",
        "        return result\n",
        "  '''\n",
        "     # smooth function prevents the numerator to become zero\n",
        "  def prob(self, context, token):\n",
        "        count_of_token = self.ngram_counter[(context, token)]\n",
        "        count_of_context = float(len(self.context[context]))\n",
        "        result = (count_of_token + 0.0001) / count_of_context\n",
        "        return result\n",
        "       \n",
        "\n",
        "  def random_token(self, context):\n",
        "        \"\"\"\n",
        "        Given a context we \"semi-randomly\" select the next word to append in a sequence\n",
        "        :param context:\n",
        "        :return:\n",
        "        \"\"\"\n",
        "        r = random.random()\n",
        "        map_to_probs = {}\n",
        "        token_of_interest = self.context[context]\n",
        "        for token in token_of_interest:\n",
        "            map_to_probs[token] = self.prob(context, token)\n",
        "\n",
        "        summ = 0\n",
        "        for token in sorted(map_to_probs):\n",
        "    # return token\n",
        "            summ += map_to_probs[token]\n",
        "            if summ > r:\n",
        "                return token\n",
        "  def generate_text(self, token_count: int):\n",
        "        \"\"\"\n",
        "        :param token_count: number of words to be produced\n",
        "        :return: generated text\n",
        "        \"\"\"\n",
        "        n = self.n\n",
        "        context_queue = (n - 1) * ['<START>']\n",
        "        result = []\n",
        "        for _ in range(token_count):\n",
        "            obj = self.random_token(tuple(context_queue))\n",
        "            result.append(obj)\n",
        "            if n > 1:\n",
        "                context_queue.pop(0)\n",
        "                if obj == '.':\n",
        "                    context_queue = (n - 1) * ['<START>']\n",
        "                else:\n",
        "                    context_queue.append(obj)\n",
        "        return ' '.join(result)\n",
        "\n",
        "  def beamSearch_generator(self, token_count: int):\n",
        "   n = self.n\n",
        "   result, result1, result2, result3 = [], [], [],[]\n",
        "   context_queue1 = (n - 1) * ['<START>']\n",
        "   context_queue2 = (n - 1) * ['<START>']\n",
        "   context_queue3 = (n - 1) * ['<START>']\n",
        "   probability1, probability2, probability3, maximum = 0, 0 , 0, 0\n",
        "   #first strin\n",
        "   for _ in range(token_count):\n",
        "      obj1 = self.random_token(tuple(context_queue1))\n",
        "      result1.append(obj1)\n",
        "      probability1 += self.prob(tuple(context_queue1),obj1)\n",
        "      if n > 1:\n",
        "          context_queue1.pop(0)\n",
        "          if obj1 == '.':\n",
        "              context_queue1 = (n - 1) * ['<START>']\n",
        "          else:\n",
        "                    context_queue1.append(obj1)\n",
        "   # second string                 \n",
        "   for _ in range(token_count):\n",
        "      obj2 = self.random_token(tuple(context_queue2))\n",
        "      result2.append(obj2)\n",
        "      probability2 += self.prob(tuple(context_queue2),obj2)\n",
        "      if n > 1:\n",
        "          context_queue2.pop(0)\n",
        "          if obj2 == '.':\n",
        "              context_queue2 = (n - 1) * ['<START>']\n",
        "          else:\n",
        "              context_queue2.append(obj2)    \n",
        "   # third string\n",
        "   for _ in range(token_count):\n",
        "      obj3 = self.random_token(tuple(context_queue3))\n",
        "      result3.append(obj3)\n",
        "      probability3 += self.prob(tuple(context_queue3),obj3)\n",
        "      if n > 1:\n",
        "          context_queue3.pop(0)\n",
        "          if obj3 == '.':\n",
        "              context_queue3 = (n - 1) * ['<START>']\n",
        "          else:\n",
        "              context_queue3.append(obj3)    \n",
        "\n",
        "   maximum = max(probability1, probability2, probability3)\n",
        "   if maximum == probability1:\n",
        "     return ' '.join(result1)\n",
        "   elif maximum == probability2:\n",
        "     return ' '.join(result2)\n",
        "   else:  \n",
        "     return ' '.join(result3)\n"
      ]
    },
    {
      "cell_type": "markdown",
      "id": "61312c3f",
      "metadata": {
        "id": "61312c3f"
      },
      "source": [
        "How can we add smoothing functionality?\n",
        "\n",
        "Why didn't we return the most probable token? (stay tuned for the rest of the materials)\n",
        "\n",
        "\n",
        "\n",
        "\n"
      ]
    },
    {
      "cell_type": "code",
      "execution_count": null,
      "id": "543fd79f",
      "metadata": {
        "id": "543fd79f"
      },
      "outputs": [],
      "source": [
        "def create_ngram_model(n, path):\n",
        "    m = NgramModel(n)\n",
        "    with open(path, 'r', encoding='utf-8') as f:\n",
        "        text = ' '.join([line.strip() for line in f.readlines() if not line.startswith('#')])\n",
        "        text = text.split('.')\n",
        "        text = random.sample(text, 20000)\n",
        "        for sentence in text:\n",
        "            # add back the fullstop\n",
        "            sentence += '.'\n",
        "            m.update(sentence)\n",
        "    return m"
      ]
    },
    {
      "cell_type": "code",
      "execution_count": null,
      "id": "36c6de0f",
      "metadata": {
        "id": "36c6de0f",
        "outputId": "61c9485c-ec75-4df1-b61c-53516d4ebbdb",
        "colab": {
          "base_uri": "https://localhost:8080/"
        }
      },
      "outputs": [
        {
          "output_type": "stream",
          "name": "stdout",
          "text": [
            "Language Model creating time: 3.693009853363037\n",
            "==================================================\n",
            "Generated text:\n",
            "واشنگتن گفته است موضوع کمک های غذايی ارتباطی با گفت و گو ها در خصوص برنامه هسته ای پيونگ يانگ ندارد . با تشديد تظاهرات، خدمات مربوط به تلفن های موبايل نيزقطع شده است . نخست وزير اسرائيل همچنين قول داد از پارلمان درخواست کند اجازه دهد ۴۰۰ زندانی ديگر فلسطينی آزاد شوند . از سوی ديگر، روسيه می گويد که تامين سامانه هوايی اولويت همکاريهای نظامی با تهران است و همزمان کارشناسانی را برای راه اندازی سيستم دفاع هوايی تور - ام يک به ايران فرستاده است . اما، کن برمن اشاره می کند که آمريکا آمادگی آن را\n",
            "==================================================\n"
          ]
        }
      ],
      "source": [
        "if __name__ == \"__main__\":\n",
        "    start = time.time()\n",
        "    m = create_ngram_model(6, './voa_fa_2003-2008_orig.txt')\n",
        "    print (f'Language Model creating time: {time.time() - start}')\n",
        "    start = time.time()\n",
        "    #random.seed(44)\n",
        "    print(f'{\"=\"*50}\\nGenerated text:')\n",
        "    #print(m.generate_text(100))\n",
        "    print(m.beamSearch_generator(100))\n",
        "    print(f'{\"=\"*50}')\n",
        "\n",
        "\n",
        "\n"
      ]
    }
  ],
  "metadata": {
    "colab": {
      "collapsed_sections": [],
      "name": "SBU_NLP_SS1401_N_gram_text_generation (1).ipynb",
      "provenance": []
    },
    "kernelspec": {
      "display_name": "Python 3",
      "language": "python",
      "name": "python3"
    },
    "language_info": {
      "codemirror_mode": {
        "name": "ipython",
        "version": 3
      },
      "file_extension": ".py",
      "mimetype": "text/x-python",
      "name": "python",
      "nbconvert_exporter": "python",
      "pygments_lexer": "ipython3",
      "version": "3.8.10"
    }
  },
  "nbformat": 4,
  "nbformat_minor": 5
}