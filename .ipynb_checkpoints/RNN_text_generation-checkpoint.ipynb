{
 "cells": [
  {
   "cell_type": "markdown",
   "metadata": {},
   "source": []
  },
  {
   "cell_type": "markdown",
   "metadata": {},
   "source": [
    "### Original Repo\n",
    "https://www.kaggle.com/code/ab971631/beginners-guide-to-text-generation-pytorch/notebook"
   ]
  },
  {
   "cell_type": "markdown",
   "metadata": {
    "id": "B_jg5ioBide1"
   },
   "source": [
    "**Import the libraries**"
   ]
  },
  {
   "cell_type": "code",
   "execution_count": 1,
   "metadata": {
    "id": "_JUjWgepi9Y1"
   },
   "outputs": [],
   "source": [
    "!pip install unidecode -q\n",
    "!pip install hazm -q"
   ]
  },
  {
   "cell_type": "code",
   "execution_count": 2,
   "metadata": {
    "_cell_guid": "b1076dfc-b9ad-4769-8c92-a6c4dae69d19",
    "_uuid": "8f2839f25d086af736a60e9eeb907d3b93b6e0e5",
    "execution": {
     "iopub.execute_input": "2022-07-14T16:01:42.621790Z",
     "iopub.status.busy": "2022-07-14T16:01:42.621498Z",
     "iopub.status.idle": "2022-07-14T16:01:45.424397Z",
     "shell.execute_reply": "2022-07-14T16:01:45.423686Z",
     "shell.execute_reply.started": "2022-07-14T16:01:42.621740Z"
    },
    "id": "vQ3-bxXaide2"
   },
   "outputs": [],
   "source": [
    "import numpy as np\n",
    "import pandas as pd\n",
    "import matplotlib.pyplot as plt\n",
    "import nltk\n",
    "import string\n",
    "import unidecode\n",
    "import random\n",
    "import torch\n",
    "from hazm import stopwords_list\n",
    "from hazm import Lemmatizer\n",
    "from tqdm import tqdm"
   ]
  },
  {
   "cell_type": "code",
   "execution_count": 3,
   "metadata": {
    "colab": {
     "base_uri": "https://localhost:8080/"
    },
    "execution": {
     "iopub.execute_input": "2022-07-14T16:01:45.426061Z",
     "iopub.status.busy": "2022-07-14T16:01:45.425772Z",
     "iopub.status.idle": "2022-07-14T16:01:45.505366Z",
     "shell.execute_reply": "2022-07-14T16:01:45.504265Z",
     "shell.execute_reply.started": "2022-07-14T16:01:45.426016Z"
    },
    "id": "EKHWK0K1ide3",
    "outputId": "1a00e428-f258-41cf-cc87-37d257a03521"
   },
   "outputs": [
    {
     "name": "stdout",
     "output_type": "stream",
     "text": [
      "Training on GPU!\n"
     ]
    }
   ],
   "source": [
    "# Check if GPU is available\n",
    "train_on_gpu = torch.cuda.is_available()\n",
    "if(train_on_gpu):\n",
    "    print('Training on GPU!')\n",
    "else: \n",
    "    print('No GPU available, training on CPU; consider making n_epochs very small.')"
   ]
  },
  {
   "cell_type": "markdown",
   "metadata": {
    "id": "w6h5P9Dbide4"
   },
   "source": [
    "**Load the dataset**"
   ]
  },
  {
   "cell_type": "code",
   "execution_count": 29,
   "metadata": {
    "_cell_guid": "79c7e3d0-c299-4dcb-8224-4455121ee9b0",
    "_uuid": "d629ff2d2480ee46fbb7e2d37f6b5fab8052498a",
    "execution": {
     "iopub.execute_input": "2022-07-14T16:05:20.171365Z",
     "iopub.status.busy": "2022-07-14T16:05:20.171089Z",
     "iopub.status.idle": "2022-07-14T16:05:20.280324Z",
     "shell.execute_reply": "2022-07-14T16:05:20.279689Z",
     "shell.execute_reply.started": "2022-07-14T16:05:20.171316Z"
    },
    "id": "2l5EPpoRide6"
   },
   "outputs": [],
   "source": [
    "path = '/content/corpus.csv'\n",
    "with open(path, 'r', encoding='utf-8') as f:\n",
    "    text = ' '.join([line.strip() for line in f.readlines() if not line.startswith('#')])\n",
    "    text = text.split('.')\n",
    "    text = random.sample(text, 150)\n"
   ]
  },
  {
   "cell_type": "markdown",
   "metadata": {
    "id": "5Im9zMXqide7"
   },
   "source": [
    "**Dataset cleaning**"
   ]
  },
  {
   "cell_type": "code",
   "execution_count": 30,
   "metadata": {
    "colab": {
     "base_uri": "https://localhost:8080/"
    },
    "execution": {
     "iopub.execute_input": "2022-07-14T16:05:24.186912Z",
     "iopub.status.busy": "2022-07-14T16:05:24.186638Z",
     "iopub.status.idle": "2022-07-14T16:05:24.197476Z",
     "shell.execute_reply": "2022-07-14T16:05:24.196849Z",
     "shell.execute_reply.started": "2022-07-14T16:05:24.186864Z"
    },
    "id": "dwQBA4BMide8",
    "outputId": "e97c5b44-cdc7-4f90-9613-d57b7107339f"
   },
   "outputs": [
    {
     "data": {
      "text/plain": [
       "3270"
      ]
     },
     "execution_count": 30,
     "metadata": {},
     "output_type": "execute_result"
    }
   ],
   "source": [
    "def joinStrings(text):\n",
    "    return ' '.join(string for string in text)\n",
    "text = joinStrings(text)\n",
    "len(text.split())"
   ]
  },
  {
   "cell_type": "code",
   "execution_count": 47,
   "metadata": {
    "execution": {
     "iopub.execute_input": "2022-07-14T16:05:27.193997Z",
     "iopub.status.busy": "2022-07-14T16:05:27.193708Z",
     "iopub.status.idle": "2022-07-14T16:05:29.145556Z",
     "shell.execute_reply": "2022-07-14T16:05:29.144854Z",
     "shell.execute_reply.started": "2022-07-14T16:05:27.193946Z"
    },
    "id": "7u0DkdhTide8"
   },
   "outputs": [],
   "source": [
    "\n",
    "stop = set(stopwords_list())\n",
    "exclude = set(string.punctuation) \n",
    "lemma = lemmatizer = Lemmatizer()\n",
    "def clean(doc):\n",
    "        stop_free = \" \".join([i for i in doc.split() if i not in stop])\n",
    "        punc_free = \"\".join(ch for ch in stop_free if ch not in exclude)\n",
    "        # normalized = \" \".join(lemma.lemmatize(word) for word in punc_free.split())\n",
    "        return punc_free\n",
    "test_sentence = clean(text).lower().split()"
   ]
  },
  {
   "cell_type": "markdown",
   "metadata": {
    "id": "ErLa0Vhmide9"
   },
   "source": [
    "> **N-Gram Language Modeling**\n",
    "\n",
    "Recall that in an n-gram language model, given a sequence of words w, we want to compute.\n",
    "                                      * P(wi|wi−1,wi−2,…,wi−n+1)                                                     \n",
    "Where wi is the ith word of the sequence.                                                                              here we will take n=2."
   ]
  },
  {
   "cell_type": "code",
   "execution_count": 48,
   "metadata": {
    "colab": {
     "base_uri": "https://localhost:8080/"
    },
    "execution": {
     "iopub.execute_input": "2022-07-14T16:05:54.842133Z",
     "iopub.status.busy": "2022-07-14T16:05:54.841866Z",
     "iopub.status.idle": "2022-07-14T16:05:54.848595Z",
     "shell.execute_reply": "2022-07-14T16:05:54.847514Z",
     "shell.execute_reply.started": "2022-07-14T16:05:54.842088Z"
    },
    "id": "UOzsTkO9ide-",
    "outputId": "fdad0644-d221-49f3-eaa8-860554445655"
   },
   "outputs": [
    {
     "name": "stdout",
     "output_type": "stream",
     "text": [
      "[(['قوانین', 'اقتصادی'], 'نوین'), (['اقتصادی', 'نوین'], 'دوران'), (['نوین', 'دوران'], 'او،'), (['دوران', 'او،'], 'دولت'), (['او،', 'دولت'], 'ایران،'), (['دولت', 'ایران،'], 'قدرت')]\n"
     ]
    }
   ],
   "source": [
    "trigrams = [([test_sentence[i], test_sentence[i + 1]], test_sentence[i + 2])\n",
    "            for i in range(len(test_sentence) - 2)]\n",
    "chunk_len=len(trigrams)\n",
    "print(trigrams[:6])"
   ]
  },
  {
   "cell_type": "code",
   "execution_count": 49,
   "metadata": {
    "execution": {
     "iopub.execute_input": "2022-07-14T16:06:01.296981Z",
     "iopub.status.busy": "2022-07-14T16:06:01.296712Z",
     "iopub.status.idle": "2022-07-14T16:06:01.301791Z",
     "shell.execute_reply": "2022-07-14T16:06:01.300553Z",
     "shell.execute_reply.started": "2022-07-14T16:06:01.296934Z"
    },
    "id": "RG6CU-h9ide-"
   },
   "outputs": [],
   "source": [
    "vocab = set(test_sentence)\n",
    "voc_len=len(vocab)\n",
    "word_to_ix = {word: i for i, word in enumerate(vocab)}\n"
   ]
  },
  {
   "cell_type": "code",
   "execution_count": 50,
   "metadata": {
    "colab": {
     "base_uri": "https://localhost:8080/"
    },
    "id": "CU0mB6JkmgIJ",
    "outputId": "36204489-9d71-4959-fa48-8e96b2b8821f"
   },
   "outputs": [
    {
     "data": {
      "text/plain": [
       "1384"
      ]
     },
     "execution_count": 50,
     "metadata": {},
     "output_type": "execute_result"
    }
   ],
   "source": [
    "len(vocab)"
   ]
  },
  {
   "cell_type": "code",
   "execution_count": 51,
   "metadata": {
    "execution": {
     "iopub.execute_input": "2022-07-14T16:06:02.412874Z",
     "iopub.status.busy": "2022-07-14T16:06:02.412600Z",
     "iopub.status.idle": "2022-07-14T16:06:02.437505Z",
     "shell.execute_reply": "2022-07-14T16:06:02.436920Z",
     "shell.execute_reply.started": "2022-07-14T16:06:02.412828Z"
    },
    "id": "qyhIn8qride_"
   },
   "outputs": [],
   "source": [
    "inp=[]\n",
    "tar=[]\n",
    "for context, target in trigrams:\n",
    "        context_idxs = torch.tensor([word_to_ix[w] for w in context], dtype=torch.long)\n",
    "        inp.append(context_idxs)\n",
    "        targ = torch.tensor([word_to_ix[target]], dtype=torch.long)\n",
    "        tar.append(targ)"
   ]
  },
  {
   "cell_type": "markdown",
   "metadata": {
    "id": "x2r2K3fmide_"
   },
   "source": [
    "**GRU model for Text Generation**"
   ]
  },
  {
   "cell_type": "code",
   "execution_count": 52,
   "metadata": {
    "execution": {
     "iopub.execute_input": "2022-07-14T16:06:38.686648Z",
     "iopub.status.busy": "2022-07-14T16:06:38.686358Z",
     "iopub.status.idle": "2022-07-14T16:06:38.693884Z",
     "shell.execute_reply": "2022-07-14T16:06:38.693124Z",
     "shell.execute_reply.started": "2022-07-14T16:06:38.686592Z"
    },
    "id": "10CnMxKYide_"
   },
   "outputs": [],
   "source": [
    "import torch\n",
    "import torch.nn as nn\n",
    "from torch.autograd import Variable\n",
    "\n",
    "class RNN(nn.Module):\n",
    "    def __init__(self, input_size, hidden_size, output_size, n_layers=1):\n",
    "        super(RNN, self).__init__()\n",
    "        self.input_size = input_size\n",
    "        self.hidden_size = hidden_size\n",
    "        self.output_size = output_size\n",
    "        self.n_layers = n_layers\n",
    "        \n",
    "        self.encoder = nn.Embedding(input_size, hidden_size)\n",
    "        self.gru = nn.GRU(hidden_size*2, hidden_size, n_layers,batch_first=True,\n",
    "                          bidirectional=False)\n",
    "        self.decoder = nn.Linear(hidden_size, output_size)\n",
    "    \n",
    "    def forward(self, input, hidden):\n",
    "        input = self.encoder(input.view(1, -1))\n",
    "        output, hidden = self.gru(input.view(1, 1, -1), hidden)\n",
    "        output = self.decoder(output.view(1, -1))\n",
    "        return output, hidden\n",
    "\n",
    "    def init_hidden(self):\n",
    "        return Variable(torch.zeros(self.n_layers, 1, self.hidden_size))"
   ]
  },
  {
   "cell_type": "code",
   "execution_count": 53,
   "metadata": {
    "execution": {
     "iopub.execute_input": "2022-07-14T16:06:51.567699Z",
     "iopub.status.busy": "2022-07-14T16:06:51.567394Z",
     "iopub.status.idle": "2022-07-14T16:06:51.573095Z",
     "shell.execute_reply": "2022-07-14T16:06:51.572219Z",
     "shell.execute_reply.started": "2022-07-14T16:06:51.567639Z"
    },
    "id": "9b58aVYridfA"
   },
   "outputs": [],
   "source": [
    "def train(inp, target):\n",
    "    hidden = decoder.init_hidden().cuda()\n",
    "    decoder.zero_grad()\n",
    "    loss = 0\n",
    "    \n",
    "    for c in range(chunk_len):\n",
    "        output, hidden = decoder(inp[c].cuda(), hidden)\n",
    "        loss += criterion(output, target[c].cuda())\n",
    "\n",
    "    loss.backward()\n",
    "    decoder_optimizer.step()\n",
    "\n",
    "    return loss.data.item() / chunk_len"
   ]
  },
  {
   "cell_type": "code",
   "execution_count": 54,
   "metadata": {
    "execution": {
     "iopub.execute_input": "2022-07-14T16:06:59.286401Z",
     "iopub.status.busy": "2022-07-14T16:06:59.286089Z",
     "iopub.status.idle": "2022-07-14T16:06:59.291879Z",
     "shell.execute_reply": "2022-07-14T16:06:59.290777Z",
     "shell.execute_reply.started": "2022-07-14T16:06:59.286350Z"
    },
    "id": "qfHCE3O1idfA"
   },
   "outputs": [],
   "source": [
    "import time, math\n",
    "\n",
    "def time_since(since):\n",
    "    s = time.time() - since\n",
    "    m = math.floor(s / 60)\n",
    "    s -= m * 60\n",
    "    return '%dm %ds' % (m, s)"
   ]
  },
  {
   "cell_type": "code",
   "execution_count": 55,
   "metadata": {
    "colab": {
     "base_uri": "https://localhost:8080/"
    },
    "execution": {
     "iopub.execute_input": "2022-07-14T16:07:10.182881Z",
     "iopub.status.busy": "2022-07-14T16:07:10.182538Z",
     "iopub.status.idle": "2022-07-14T16:13:34.683169Z",
     "shell.execute_reply": "2022-07-14T16:13:34.682353Z",
     "shell.execute_reply.started": "2022-07-14T16:07:10.182830Z"
    },
    "id": "y2rCSK4TidfB",
    "outputId": "0891f0e3-d227-4dd2-e37c-91410bbd9e64"
   },
   "outputs": [
    {
     "name": "stderr",
     "output_type": "stream",
     "text": [
      "Training ...: 100%|██████████| 300/300 [06:21<00:00,  1.27s/it]\n"
     ]
    }
   ],
   "source": [
    "n_epochs = 300\n",
    "print_every = 100\n",
    "plot_every = 10\n",
    "hidden_size = 100\n",
    "n_layers = 1\n",
    "lr = 0.015\n",
    "\n",
    "decoder = RNN(voc_len, hidden_size, voc_len, n_layers)\n",
    "decoder_optimizer = torch.optim.Adam(decoder.parameters(), lr=lr)\n",
    "criterion = nn.CrossEntropyLoss()\n",
    "\n",
    "start = time.time()\n",
    "all_losses = []\n",
    "loss_avg = 0\n",
    "if(train_on_gpu):\n",
    "    decoder.cuda()\n",
    "for _, epoch in tqdm(enumerate(range(1, n_epochs + 1)), desc='Training ...', total=n_epochs):\n",
    "    loss = train(inp,tar)       \n",
    "    loss_avg += loss\n",
    "\n",
    "\n",
    "    if epoch % plot_every == 0:\n",
    "        all_losses.append(loss_avg / plot_every)\n",
    "        loss_avg = 0"
   ]
  },
  {
   "cell_type": "code",
   "execution_count": 56,
   "metadata": {
    "colab": {
     "base_uri": "https://localhost:8080/",
     "height": 283
    },
    "execution": {
     "iopub.execute_input": "2022-07-14T16:25:09.686546Z",
     "iopub.status.busy": "2022-07-14T16:25:09.686237Z",
     "iopub.status.idle": "2022-07-14T16:25:09.952465Z",
     "shell.execute_reply": "2022-07-14T16:25:09.951654Z",
     "shell.execute_reply.started": "2022-07-14T16:25:09.686479Z"
    },
    "id": "T1FaSEYvidfB",
    "outputId": "d61a0e16-f52f-4dd0-a20f-58ead62316eb"
   },
   "outputs": [
    {
     "data": {
      "text/plain": [
       "[<matplotlib.lines.Line2D at 0x7f801f8fa690>]"
      ]
     },
     "execution_count": 56,
     "metadata": {},
     "output_type": "execute_result"
    },
    {
     "data": {
      "image/png": "[encoded data removed]",
      "text/plain": [
       "<Figure size 432x288 with 1 Axes>"
      ]
     },
     "metadata": {
      "needs_background": "light"
     },
     "output_type": "display_data"
    }
   ],
   "source": [
    "import matplotlib.pyplot as plt\n",
    "import matplotlib.ticker as ticker\n",
    "%matplotlib inline\n",
    "\n",
    "plt.figure()\n",
    "plt.plot(all_losses)"
   ]
  },
  {
   "cell_type": "markdown",
   "metadata": {
    "id": "wfHx_oPEidfC"
   },
   "source": [
    "**Generating the text**"
   ]
  },
  {
   "cell_type": "code",
   "execution_count": 59,
   "metadata": {
    "execution": {
     "iopub.execute_input": "2022-07-14T16:25:58.375749Z",
     "iopub.status.busy": "2022-07-14T16:25:58.375451Z",
     "iopub.status.idle": "2022-07-14T16:25:58.382305Z",
     "shell.execute_reply": "2022-07-14T16:25:58.381437Z",
     "shell.execute_reply.started": "2022-07-14T16:25:58.375698Z"
    },
    "id": "qfZFqxCGidfC"
   },
   "outputs": [],
   "source": [
    "def evaluate(prime_str='this process', predict_len=100, temperature=0.8):\n",
    "    hidden = decoder.init_hidden().cuda()\n",
    "    for p in range(predict_len):\n",
    "        \n",
    "        prime_input = torch.tensor([word_to_ix[w] for w in prime_str.split()], dtype=torch.long).cuda()\n",
    "        # print(prime_input)\n",
    "        inp = prime_input[-2:] #last two words as input\n",
    "        output, hidden = decoder(inp, hidden)\n",
    "        \n",
    "        # Sample from the network as a multinomial distribution\n",
    "        output_dist = output.data.view(-1).div(temperature).exp()\n",
    "        top_i = torch.multinomial(output_dist, 1)[0]\n",
    "        \n",
    "        # Add predicted word to string and use as next input\n",
    "        predicted_word = list(word_to_ix.keys())[list(word_to_ix.values()).index(top_i)]\n",
    "        prime_str += \" \" + predicted_word\n",
    "#         inp = torch.tensor(word_to_ix[predicted_word], dtype=torch.long)\n",
    "\n",
    "    return prime_str"
   ]
  },
  {
   "cell_type": "code",
   "execution_count": 60,
   "metadata": {
    "colab": {
     "base_uri": "https://localhost:8080/"
    },
    "execution": {
     "iopub.execute_input": "2022-07-14T16:26:00.250826Z",
     "iopub.status.busy": "2022-07-14T16:26:00.250522Z",
     "iopub.status.idle": "2022-07-14T16:26:00.750120Z",
     "shell.execute_reply": "2022-07-14T16:26:00.749344Z",
     "shell.execute_reply.started": "2022-07-14T16:26:00.250773Z"
    },
    "id": "KpL4WJ7VidfC",
    "outputId": "38904e50-87e4-4301-bc10-6ccedadc1727"
   },
   "outputs": [
    {
     "name": "stdout",
     "output_type": "stream",
     "text": [
      "اقتصاد نوین سلول او، دولت ایران، قدرت اجرای طرح های زیرساختی عنوان مثال، وام دهی بهک شرکت قانونمند کارکنانش مزد امرار معاش نمی غیراخلاقی آلبوم شد، هندریکس انگلستان نواحی اروپا سفر صندوق های سرمایه مشترک نقطه صندوق بندند اصل همراهی زنجیره ای\n"
     ]
    }
   ],
   "source": [
    "startwith = 'اقتصاد نوین'\n",
    "print(evaluate(startwith, 40, temperature=1))"
   ]
  },
  {
   "cell_type": "code",
   "execution_count": null,
   "metadata": {
    "id": "rnehenj2idfD"
   },
   "outputs": [],
   "source": []
  }
 ],
 "metadata": {
  "accelerator": "GPU",
  "colab": {
   "name": "beginners-guide-to-text-generation-pytorch.ipynb",
   "provenance": []
  },
  "gpuClass": "standard",
  "kernelspec": {
   "display_name": "Python 3",
   "language": "python",
   "name": "python3"
  },
  "language_info": {
   "codemirror_mode": {
    "name": "ipython",
    "version": 3
   },
   "file_extension": ".py",
   "mimetype": "text/x-python",
   "name": "python",
   "nbconvert_exporter": "python",
   "pygments_lexer": "ipython3",
   "version": "3.8.10"
  }
 },
 "nbformat": 4,
 "nbformat_minor": 1
}
