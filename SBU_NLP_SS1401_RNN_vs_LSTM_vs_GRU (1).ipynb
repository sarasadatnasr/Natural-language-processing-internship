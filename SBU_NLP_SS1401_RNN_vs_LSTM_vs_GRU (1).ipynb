{
  "cells": [
    {
      "cell_type": "markdown",
      "metadata": {
        "id": "xlp118njpxO9"
      },
      "source": [
        "<img src=\"https://upload.wikimedia.org/wikipedia/commons/thumb/6/6a/Sbu-logo.svg/1200px-Sbu-logo.svg.png\" alt=\"keras\" width=\"150\" height=\"150\">\n",
        "\n",
        "<h1 align=center><font size = 7>NLP Summer School</font></h1>\n",
        "<h1 align=center><font size = 6>NLP Research Lab</font></h1>\n",
        "<h1 align=center><font size = 5>Shahid Beheshti University</font></h1>\n",
        "<h1 align=center><font size = 4> July 2022 </font></h1>"
      ]
    },
    {
      "cell_type": "markdown",
      "metadata": {
        "id": "46Q4FTAhpxKt"
      },
      "source": [
        "<a id=section1></a>"
      ]
    },
    {
      "cell_type": "markdown",
      "metadata": {
        "id": "SihUHeDvqrKj"
      },
      "source": [
        "### Original Repo:"
      ]
    },
    {
      "cell_type": "code",
      "execution_count": null,
      "metadata": {
        "id": "1Cg8M9P_XdNW"
      },
      "outputs": [],
      "source": [
        "'''\n",
        "RNN_vs_LSTM_vs_GRU:\n",
        "هر کدام از مدل ها به چند لایه (استکد) بروزرسانی شوند - دراپ اوت، دنس لیر و ... اضافه بشود در صورت لزوم (15)\n",
        "دقت به بیش از 92 درصد برسد روی داده تست (15)\n",
        "'''"
      ]
    },
    {
      "cell_type": "code",
      "execution_count": 1,
      "metadata": {
        "id": "ItkIWd-QuyJn"
      },
      "outputs": [],
      "source": [
        "# Import tensorflow 2.x\n",
        "# This code block will only work in Google Colab.\n",
        "try:\n",
        "    # %tensorflow_version only exists in Colab.\n",
        "    %tensorflow_version 2.x\n",
        "except Exception:\n",
        "    pass"
      ]
    },
    {
      "cell_type": "code",
      "execution_count": 2,
      "metadata": {
        "colab": {
          "base_uri": "https://localhost:8080/"
        },
        "id": "k-UBRTzIMxd-",
        "outputId": "f9231a93-07e8-4de2-e03d-f23a70240c04"
      },
      "outputs": [
        {
          "name": "stdout",
          "output_type": "stream",
          "text": [
            "Looking in indexes: https://pypi.org/simple, https://us-python.pkg.dev/colab-wheels/public/simple/\n",
            "Collecting numpy==1.14.2\n",
            "  Downloading numpy-1.14.2.zip (4.9 MB)\n",
            "\u001b[K     |████████████████████████████████| 4.9 MB 7.1 MB/s \n",
            "\u001b[?25hBuilding wheels for collected packages: numpy\n",
            "  Building wheel for numpy (setup.py) ... \u001b[?25lerror\n",
            "\u001b[31m  ERROR: Failed building wheel for numpy\u001b[0m\n",
            "\u001b[?25h  Running setup.py clean for numpy\n",
            "\u001b[31m  ERROR: Failed cleaning build dir for numpy\u001b[0m\n",
            "Failed to build numpy\n",
            "Installing collected packages: numpy\n",
            "  Attempting uninstall: numpy\n",
            "    Found existing installation: numpy 1.21.6\n",
            "    Uninstalling numpy-1.21.6:\n",
            "      Successfully uninstalled numpy-1.21.6\n",
            "    Running setup.py install for numpy ... \u001b[?25l\u001b[?25herror\n",
            "  Rolling back uninstall of numpy\n",
            "  Moving to /usr/bin/f2py\n",
            "   from /tmp/pip-uninstall-zo_42kql/f2py\n",
            "  Moving to /usr/local/bin/f2py\n",
            "   from /tmp/pip-uninstall-vmdrmw7s/f2py\n",
            "  Moving to /usr/local/bin/f2py3\n",
            "   from /tmp/pip-uninstall-vmdrmw7s/f2py3\n",
            "  Moving to /usr/local/bin/f2py3.7\n",
            "   from /tmp/pip-uninstall-vmdrmw7s/f2py3.7\n",
            "  Moving to /usr/local/lib/python3.7/dist-packages/numpy-1.21.6.dist-info/\n",
            "   from /usr/local/lib/python3.7/dist-packages/~umpy-1.21.6.dist-info\n",
            "  Moving to /usr/local/lib/python3.7/dist-packages/numpy.libs/\n",
            "   from /usr/local/lib/python3.7/dist-packages/~umpy.libs\n",
            "  Moving to /usr/local/lib/python3.7/dist-packages/numpy/\n",
            "   from /usr/local/lib/python3.7/dist-packages/~umpy\n",
            "\u001b[31mERROR: Command errored out with exit status 1: /usr/bin/python3 -u -c 'import io, os, sys, setuptools, tokenize; sys.argv[0] = '\"'\"'/tmp/pip-install-fhgsjb6a/numpy_ef284aa2921e4470b0515b378269c440/setup.py'\"'\"'; __file__='\"'\"'/tmp/pip-install-fhgsjb6a/numpy_ef284aa2921e4470b0515b378269c440/setup.py'\"'\"';f = getattr(tokenize, '\"'\"'open'\"'\"', open)(__file__) if os.path.exists(__file__) else io.StringIO('\"'\"'from setuptools import setup; setup()'\"'\"');code = f.read().replace('\"'\"'\\r\\n'\"'\"', '\"'\"'\\n'\"'\"');f.close();exec(compile(code, __file__, '\"'\"'exec'\"'\"'))' install --record /tmp/pip-record-qldv2ffa/install-record.txt --single-version-externally-managed --compile --install-headers /usr/local/include/python3.7/numpy Check the logs for full command output.\u001b[0m\n"
          ]
        }
      ],
      "source": [
        "# If current version of numpy gives an error while running the dataset below, then run this cell.\n",
        "# Otherwise skip this cell.\n",
        "\n",
        "!pip install numpy==1.14.2\n",
        "\n",
        "# Restart the session after installing and don't run this cell again after restarting the session"
      ]
    },
    {
      "cell_type": "code",
      "execution_count": 4,
      "metadata": {
        "colab": {
          "base_uri": "https://localhost:8080/"
        },
        "id": "n6CY0mZqM-wN",
        "outputId": "f49ee3cf-60eb-4799-b58e-4ce43c8fe401"
      },
      "outputs": [
        {
          "name": "stdout",
          "output_type": "stream",
          "text": [
            "Loading data...\n",
            "25000 train sequences\n",
            "25000 test sequences\n"
          ]
        }
      ],
      "source": [
        "from tensorflow.keras.datasets import imdb\n",
        "max_features = 10000\n",
        "print('Loading data...')\n",
        "(input_train, y_train), (input_test, y_test) = imdb.load_data(num_words=max_features)\n",
        "print(len(input_train), 'train sequences')\n",
        "print(len(input_test), 'test sequences')"
      ]
    },
    {
      "cell_type": "code",
      "execution_count": 5,
      "metadata": {
        "colab": {
          "base_uri": "https://localhost:8080/"
        },
        "id": "av0mnyhMQfJ2",
        "outputId": "d07d75c4-476b-4820-cd89-ce48eed53423"
      },
      "outputs": [
        {
          "name": "stdout",
          "output_type": "stream",
          "text": [
            "1st review in training data:\n",
            "\n",
            "[1, 14, 22, 16, 43, 530, 973, 1622, 1385, 65, 458, 4468, 66, 3941, 4, 173, 36, 256, 5, 25, 100, 43, 838, 112, 50, 670, 2, 9, 35, 480, 284, 5, 150, 4, 172, 112, 167, 2, 336, 385, 39, 4, 172, 4536, 1111, 17, 546, 38, 13, 447, 4, 192, 50, 16, 6, 147, 2025, 19, 14, 22, 4, 1920, 4613, 469, 4, 22, 71, 87, 12, 16, 43, 530, 38, 76, 15, 13, 1247, 4, 22, 17, 515, 17, 12, 16, 626, 18, 2, 5, 62, 386, 12, 8, 316, 8, 106, 5, 4, 2223, 5244, 16, 480, 66, 3785, 33, 4, 130, 12, 16, 38, 619, 5, 25, 124, 51, 36, 135, 48, 25, 1415, 33, 6, 22, 12, 215, 28, 77, 52, 5, 14, 407, 16, 82, 2, 8, 4, 107, 117, 5952, 15, 256, 4, 2, 7, 3766, 5, 723, 36, 71, 43, 530, 476, 26, 400, 317, 46, 7, 4, 2, 1029, 13, 104, 88, 4, 381, 15, 297, 98, 32, 2071, 56, 26, 141, 6, 194, 7486, 18, 4, 226, 22, 21, 134, 476, 26, 480, 5, 144, 30, 5535, 18, 51, 36, 28, 224, 92, 25, 104, 4, 226, 65, 16, 38, 1334, 88, 12, 16, 283, 5, 16, 4472, 113, 103, 32, 15, 16, 5345, 19, 178, 32]\n"
          ]
        }
      ],
      "source": [
        "print('1st review in training data:\\n')\n",
        "print(input_train[0])"
      ]
    },
    {
      "cell_type": "code",
      "execution_count": 6,
      "metadata": {
        "colab": {
          "base_uri": "https://localhost:8080/"
        },
        "id": "RH-krZFqQkq4",
        "outputId": "f016c2d3-4bca-453b-99ed-d6a92e2a5cca"
      },
      "outputs": [
        {
          "name": "stdout",
          "output_type": "stream",
          "text": [
            "Sentiment of 1st review in training data:\n",
            "\n",
            "1\n"
          ]
        }
      ],
      "source": [
        "print('Sentiment of 1st review in training data:\\n')\n",
        "print(y_train[0])"
      ]
    },
    {
      "cell_type": "code",
      "execution_count": 7,
      "metadata": {
        "colab": {
          "base_uri": "https://localhost:8080/"
        },
        "id": "jO5ni0CDSkGp",
        "outputId": "70f781e2-6ddc-4027-ded0-57d0147b4b5d"
      },
      "outputs": [
        {
          "name": "stdout",
          "output_type": "stream",
          "text": [
            "Downloading data from https://storage.googleapis.com/tensorflow/tf-keras-datasets/imdb_word_index.json\n",
            "1646592/1641221 [==============================] - 0s 0us/step\n",
            "1654784/1641221 [==============================] - 0s 0us/step\n",
            "1st review in training data actually looks like:\n",
            "\n",
            "? this film was just brilliant casting location scenery story direction everyone's really suited the part they played and you could just imagine being there robert ? is an amazing actor and now the same being director ? father came from the same scottish island as myself so i loved the fact there was a real connection with this film the witty remarks throughout the film were great it was just brilliant so much that i bought the film as soon as it was released for ? and would recommend it to everyone to watch and the fly fishing was amazing really cried at the end it was so sad and you know what they say if you cry at a film it must have been good and this definitely was also ? to the two little boy's that played the ? of norman and paul they were just brilliant children are often left out of the ? list i think because the stars that play them all grown up are such a big profile for the whole film but these children are amazing and should be praised for what they have done don't you think the whole story was so lovely because it was true and was someone's life after all that was shared with us all\n"
          ]
        }
      ],
      "source": [
        "word_index = imdb.get_word_index()\n",
        "reverse_word_index = dict(\n",
        "[(value, key) for (key, value) in word_index.items()])\n",
        "decoded_review = ' '.join(\n",
        "[reverse_word_index.get(i - 3, '?') for i in input_train[0]])\n",
        "print('1st review in training data actually looks like:\\n')\n",
        "print(decoded_review)"
      ]
    },
    {
      "cell_type": "code",
      "execution_count": 8,
      "metadata": {
        "colab": {
          "base_uri": "https://localhost:8080/"
        },
        "id": "RT6SkviaNCVd",
        "outputId": "629c78c0-79ac-41a9-ac1e-b011e89253c4"
      },
      "outputs": [
        {
          "name": "stdout",
          "output_type": "stream",
          "text": [
            "Pad sequences (samples x time)\n",
            "input_train shape: (25000, 500)\n",
            "input_test shape: (25000, 500)\n"
          ]
        }
      ],
      "source": [
        "from tensorflow.keras.preprocessing import sequence\n",
        "maxlen = 500\n",
        "print('Pad sequences (samples x time)')\n",
        "input_train = sequence.pad_sequences(input_train, maxlen=maxlen)\n",
        "input_test = sequence.pad_sequences(input_test, maxlen=maxlen)\n",
        "print('input_train shape:', input_train.shape)\n",
        "print('input_test shape:', input_test.shape)"
      ]
    },
    {
      "cell_type": "code",
      "execution_count": 9,
      "metadata": {
        "colab": {
          "base_uri": "https://localhost:8080/"
        },
        "id": "lqicyW-brUKS",
        "outputId": "c9fb9b5d-9a31-4f83-b749-b2036125c72c"
      },
      "outputs": [
        {
          "data": {
            "text/plain": [
              "10000"
            ]
          },
          "execution_count": 9,
          "metadata": {},
          "output_type": "execute_result"
        }
      ],
      "source": [
        "max_features"
      ]
    },
    {
      "cell_type": "code",
      "execution_count": 10,
      "metadata": {
        "id": "5sRZv_QoNg3W"
      },
      "outputs": [],
      "source": [
        "from tensorflow.keras.models import Sequential\n",
        "from tensorflow.keras.layers import Dense, Embedding, Dense, SimpleRNN\n",
        "model = Sequential()\n",
        "# add some extra layer\n",
        "model.add(Embedding(max_features, 32))\n",
        "model.add(SimpleRNN(32, return_sequences=True))\n",
        "model.add(SimpleRNN(32, return_sequences=True))\n",
        "model.add(SimpleRNN(32))\n",
        "model.add(Dense(1, activation='sigmoid'))\n",
        "model.compile(optimizer='rmsprop', loss='binary_crossentropy', metrics=['acc'])\n"
      ]
    },
    {
      "cell_type": "code",
      "execution_count": null,
      "metadata": {
        "colab": {
          "base_uri": "https://localhost:8080/"
        },
        "id": "Pc3KPoUMZhMT",
        "outputId": "b9f5c507-faca-445e-81d6-11f967156961"
      },
      "outputs": [
        {
          "name": "stdout",
          "output_type": "stream",
          "text": [
            "Epoch 1/10\n",
            "157/157 [==============================] - 77s 464ms/step - loss: 0.6331 - acc: 0.6221 - val_loss: 0.5360 - val_acc: 0.7270\n",
            "Epoch 2/10\n",
            "157/157 [==============================] - 75s 476ms/step - loss: 0.4075 - acc: 0.8232 - val_loss: 0.4074 - val_acc: 0.8196\n",
            "Epoch 3/10\n",
            "157/157 [==============================] - 75s 477ms/step - loss: 0.3033 - acc: 0.8781 - val_loss: 0.3713 - val_acc: 0.8500\n",
            "Epoch 4/10\n",
            "157/157 [==============================] - 77s 492ms/step - loss: 0.2207 - acc: 0.9153 - val_loss: 0.3795 - val_acc: 0.8576\n",
            "Epoch 5/10\n",
            "157/157 [==============================] - 73s 466ms/step - loss: 0.1658 - acc: 0.9396 - val_loss: 0.4162 - val_acc: 0.8348\n",
            "Epoch 6/10\n",
            "157/157 [==============================] - 73s 464ms/step - loss: 0.1203 - acc: 0.9589 - val_loss: 0.5767 - val_acc: 0.8186\n",
            "Epoch 7/10\n",
            "157/157 [==============================] - 73s 468ms/step - loss: 0.0801 - acc: 0.9736 - val_loss: 0.8167 - val_acc: 0.7036\n",
            "Epoch 8/10\n",
            "157/157 [==============================] - 72s 458ms/step - loss: 0.0594 - acc: 0.9807 - val_loss: 0.6735 - val_acc: 0.7854\n",
            "Epoch 9/10\n",
            "157/157 [==============================] - 73s 463ms/step - loss: 0.0300 - acc: 0.9916 - val_loss: 0.6178 - val_acc: 0.8134\n",
            "Epoch 10/10\n",
            "157/157 [==============================] - 73s 462ms/step - loss: 0.0201 - acc: 0.9941 - val_loss: 0.7332 - val_acc: 0.8096\n",
            "CPU times: user 18min, sys: 2min 8s, total: 20min 8s\n",
            "Wall time: 12min 23s\n"
          ]
        }
      ],
      "source": [
        "%%time\n",
        "history = model.fit(input_train, y_train,\n",
        "epochs=10,\n",
        "batch_size=128,\n",
        "validation_split=0.2)"
      ]
    },
    {
      "cell_type": "code",
      "execution_count": null,
      "metadata": {
        "colab": {
          "base_uri": "https://localhost:8080/",
          "height": 545
        },
        "id": "WL2jo7QENm3r",
        "outputId": "8cf8c70e-547c-4320-ca89-6b269e6b1f14"
      },
      "outputs": [
        {
          "data": {
            "image/png": "[encoded data removed]",
            "text/plain": [
              "<Figure size 432x288 with 1 Axes>"
            ]
          },
          "metadata": {
            "needs_background": "light"
          },
          "output_type": "display_data"
        },
        {
          "data": {
            "image/png": "[encoded data removed]",
            "text/plain": [
              "<Figure size 432x288 with 1 Axes>"
            ]
          },
          "metadata": {
            "needs_background": "light"
          },
          "output_type": "display_data"
        }
      ],
      "source": [
        "import matplotlib.pyplot as plt\n",
        "acc = history.history['acc']\n",
        "val_acc = history.history['val_acc']\n",
        "loss = history.history['loss']\n",
        "val_loss = history.history['val_loss']\n",
        "epochs = range(1, len(acc) + 1)\n",
        "plt.plot(epochs, acc, 'bo', label='Training acc')\n",
        "plt.plot(epochs, val_acc, 'b', label='Validation acc')\n",
        "plt.title('Training and validation accuracy')\n",
        "plt.legend()\n",
        "plt.figure()\n",
        "plt.plot(epochs, loss, 'bo', label='Training loss')\n",
        "plt.plot(epochs, val_loss, 'b', label='Validation loss')\n",
        "plt.title('Training and validation loss')\n",
        "plt.legend()\n",
        "plt.show()"
      ]
    },
    {
      "cell_type": "code",
      "execution_count": null,
      "metadata": {
        "id": "VMpDc1WNOTWh"
      },
      "outputs": [],
      "source": [
        "from tensorflow.keras.layers import LSTM\n",
        "model = Sequential()\n",
        "model.add(Embedding(max_features, 32))\n",
        "model.add(LSTM(32))\n",
        "model.add(Dense(1, activation='sigmoid'))\n",
        "model.compile(optimizer='rmsprop',\n",
        "loss='binary_crossentropy',\n",
        "metrics=['acc'])"
      ]
    },
    {
      "cell_type": "code",
      "execution_count": null,
      "metadata": {
        "colab": {
          "base_uri": "https://localhost:8080/"
        },
        "id": "5E1Z6Nn1ALLc",
        "outputId": "61c66feb-72b1-42a6-9583-5145cda6d2c8"
      },
      "outputs": [
        {
          "name": "stdout",
          "output_type": "stream",
          "text": [
            "Epoch 1/10\n",
            "157/157 [==============================] - 8s 24ms/step - loss: 0.5401 - acc: 0.7378 - val_loss: 0.3629 - val_acc: 0.8536\n",
            "Epoch 2/10\n",
            "157/157 [==============================] - 3s 20ms/step - loss: 0.3164 - acc: 0.8735 - val_loss: 0.3475 - val_acc: 0.8538\n",
            "Epoch 3/10\n",
            "157/157 [==============================] - 3s 20ms/step - loss: 0.2439 - acc: 0.9057 - val_loss: 0.2780 - val_acc: 0.8892\n",
            "Epoch 4/10\n",
            "157/157 [==============================] - 3s 20ms/step - loss: 0.2092 - acc: 0.9216 - val_loss: 0.2837 - val_acc: 0.8852\n",
            "Epoch 5/10\n",
            "157/157 [==============================] - 3s 21ms/step - loss: 0.1847 - acc: 0.9320 - val_loss: 0.3690 - val_acc: 0.8844\n",
            "Epoch 6/10\n",
            "157/157 [==============================] - 3s 20ms/step - loss: 0.1668 - acc: 0.9390 - val_loss: 0.3339 - val_acc: 0.8826\n",
            "Epoch 7/10\n",
            "157/157 [==============================] - 3s 20ms/step - loss: 0.1473 - acc: 0.9493 - val_loss: 0.3928 - val_acc: 0.8632\n",
            "Epoch 8/10\n",
            "157/157 [==============================] - 3s 20ms/step - loss: 0.1383 - acc: 0.9522 - val_loss: 0.3428 - val_acc: 0.8726\n",
            "Epoch 9/10\n",
            "157/157 [==============================] - 3s 20ms/step - loss: 0.1261 - acc: 0.9553 - val_loss: 0.3374 - val_acc: 0.8780\n",
            "Epoch 10/10\n",
            "157/157 [==============================] - 3s 22ms/step - loss: 0.1138 - acc: 0.9602 - val_loss: 0.4238 - val_acc: 0.8628\n",
            "CPU times: user 37.5 s, sys: 2.03 s, total: 39.6 s\n",
            "Wall time: 42.7 s\n"
          ]
        }
      ],
      "source": [
        "%%time\n",
        "history = model.fit(input_train, y_train,\n",
        "epochs=10,\n",
        "batch_size=128,\n",
        "validation_split=0.2)"
      ]
    },
    {
      "cell_type": "markdown",
      "metadata": {
        "id": "8cKoTk3Dq0hC"
      },
      "source": [
        "<a id=section7></a>"
      ]
    },
    {
      "cell_type": "code",
      "execution_count": null,
      "metadata": {
        "colab": {
          "base_uri": "https://localhost:8080/",
          "height": 545
        },
        "id": "P1mFSfbWPbwd",
        "outputId": "7f779491-1d68-45e6-9552-1041c0ecc521"
      },
      "outputs": [
        {
          "data": {
            "image/png": "[encoded data removed]",
            "text/plain": [
              "<Figure size 432x288 with 1 Axes>"
            ]
          },
          "metadata": {
            "needs_background": "light"
          },
          "output_type": "display_data"
        },
        {
          "data": {
            "image/png": "[encoded data removed]",
            "text/plain": [
              "<Figure size 432x288 with 1 Axes>"
            ]
          },
          "metadata": {
            "needs_background": "light"
          },
          "output_type": "display_data"
        }
      ],
      "source": [
        "import matplotlib.pyplot as plt\n",
        "acc = history.history['acc']\n",
        "val_acc = history.history['val_acc']\n",
        "loss = history.history['loss']\n",
        "val_loss = history.history['val_loss']\n",
        "epochs = range(1, len(acc) + 1)\n",
        "plt.plot(epochs, acc, 'bo', label='Training acc')\n",
        "plt.plot(epochs, val_acc, 'b', label='Validation acc')\n",
        "plt.title('Training and validation accuracy')\n",
        "plt.legend()\n",
        "plt.figure()\n",
        "plt.plot(epochs, loss, 'bo', label='Training loss')\n",
        "plt.plot(epochs, val_loss, 'b', label='Validation loss')\n",
        "plt.title('Training and validation loss')\n",
        "plt.legend()\n",
        "plt.show()"
      ]
    },
    {
      "cell_type": "code",
      "execution_count": null,
      "metadata": {
        "id": "T7xfD8OlyOL1"
      },
      "outputs": [],
      "source": [
        "from tensorflow.keras.layers import GRU\n",
        "model = Sequential()\n",
        "model.add(Embedding(max_features, 32))\n",
        "model.add(GRU(32))\n",
        "model.add(Dense(1, activation='sigmoid'))\n",
        "model.compile(optimizer='rmsprop',\n",
        "loss='binary_crossentropy',\n",
        "metrics=['acc'])"
      ]
    },
    {
      "cell_type": "code",
      "execution_count": null,
      "metadata": {
        "colab": {
          "base_uri": "https://localhost:8080/"
        },
        "id": "w4Eza-BpAQNA",
        "outputId": "86300834-849f-4662-9220-004d98e2c106"
      },
      "outputs": [
        {
          "name": "stdout",
          "output_type": "stream",
          "text": [
            "Epoch 1/10\n",
            "157/157 [==============================] - 9s 48ms/step - loss: 0.5630 - acc: 0.7107 - val_loss: 0.4161 - val_acc: 0.8066\n",
            "Epoch 2/10\n",
            "157/157 [==============================] - 3s 21ms/step - loss: 0.3348 - acc: 0.8585 - val_loss: 0.3824 - val_acc: 0.8314\n",
            "Epoch 3/10\n",
            "157/157 [==============================] - 3s 20ms/step - loss: 0.2661 - acc: 0.8965 - val_loss: 0.3284 - val_acc: 0.8652\n",
            "Epoch 4/10\n",
            "157/157 [==============================] - 3s 21ms/step - loss: 0.2226 - acc: 0.9154 - val_loss: 0.3583 - val_acc: 0.8440\n",
            "Epoch 5/10\n",
            "157/157 [==============================] - 3s 20ms/step - loss: 0.1978 - acc: 0.9254 - val_loss: 0.3286 - val_acc: 0.8678\n",
            "Epoch 6/10\n",
            "157/157 [==============================] - 3s 20ms/step - loss: 0.1818 - acc: 0.9335 - val_loss: 0.3215 - val_acc: 0.8782\n",
            "Epoch 7/10\n",
            "157/157 [==============================] - 3s 21ms/step - loss: 0.1618 - acc: 0.9413 - val_loss: 0.5451 - val_acc: 0.8372\n",
            "Epoch 8/10\n",
            "157/157 [==============================] - 4s 24ms/step - loss: 0.1510 - acc: 0.9466 - val_loss: 0.3332 - val_acc: 0.8772\n",
            "Epoch 9/10\n",
            "157/157 [==============================] - 3s 20ms/step - loss: 0.1332 - acc: 0.9524 - val_loss: 0.4666 - val_acc: 0.8242\n",
            "Epoch 10/10\n",
            "157/157 [==============================] - 3s 21ms/step - loss: 0.1308 - acc: 0.9525 - val_loss: 0.3417 - val_acc: 0.8774\n",
            "CPU times: user 38.9 s, sys: 1.74 s, total: 40.7 s\n",
            "Wall time: 39.1 s\n"
          ]
        }
      ],
      "source": [
        "%%time\n",
        "history = model.fit(input_train, y_train,\n",
        "epochs=10,\n",
        "batch_size=128,\n",
        "validation_split=0.2)"
      ]
    },
    {
      "cell_type": "markdown",
      "metadata": {
        "id": "UYVONmxGa1OE"
      },
      "source": [
        "<a id=section9></a>"
      ]
    },
    {
      "cell_type": "code",
      "execution_count": null,
      "metadata": {
        "colab": {
          "base_uri": "https://localhost:8080/",
          "height": 545
        },
        "id": "AzyTmORRyS1a",
        "outputId": "19c32adc-f815-4ccc-a1ab-68f3557a51ec",
        "scrolled": false
      },
      "outputs": [
        {
          "data": {
            "image/png": "[encoded data removed]",
            "text/plain": [
              "<Figure size 432x288 with 1 Axes>"
            ]
          },
          "metadata": {
            "needs_background": "light"
          },
          "output_type": "display_data"
        },
        {
          "data": {
            "image/png": "[encoded data removed]",
            "text/plain": [
              "<Figure size 432x288 with 1 Axes>"
            ]
          },
          "metadata": {
            "needs_background": "light"
          },
          "output_type": "display_data"
        }
      ],
      "source": [
        "acc = history.history['acc']\n",
        "val_acc = history.history['val_acc']\n",
        "loss = history.history['loss']\n",
        "val_loss = history.history['val_loss']\n",
        "epochs = range(1, len(acc) + 1)\n",
        "plt.plot(epochs, acc, 'bo', label='Training acc')\n",
        "plt.plot(epochs, val_acc, 'b', label='Validation acc')\n",
        "plt.title('Training and validation accuracy')\n",
        "plt.legend()\n",
        "plt.figure()\n",
        "plt.plot(epochs, loss, 'bo', label='Training loss')\n",
        "plt.plot(epochs, val_loss, 'b', label='Validation loss')\n",
        "plt.title('Training and validation loss')\n",
        "plt.legend()\n",
        "plt.show()"
      ]
    },
    {
      "cell_type": "markdown",
      "metadata": {
        "id": "3Q54pOgke9DU"
      },
      "source": [
        "| Model | CPU Time for 10 Epochs(Google Colab) | Loss on Training Data | Loss on Validation Data | Accuracy on Training Data | Accuracy on Validation Data | \n",
        "| --- | --- | --- | --- | --- | --- |\n",
        "| SimpleRNN Model | 6 Minutes | 0.2971 | 0.3501 | 0.8814 | 0.8610 |\n",
        "| LSTM Model | 23 Minutes | 0.1928 | 0.3066 | 0.9279 | 0.8940 |\n",
        "| GRU Model | 18 Minues | 0.1640 | 0.3279 | 0.9410 | 0.8796 |"
      ]
    },
    {
      "cell_type": "markdown",
      "metadata": {
        "id": "q1Fg_tO9sTTB"
      },
      "source": [
        "what happens if do so with multi-layer ones?"
      ]
    },
    {
      "cell_type": "code",
      "execution_count": null,
      "metadata": {
        "id": "ncnbFuZ8sUVN"
      },
      "outputs": [],
      "source": []
    }
  ],
  "metadata": {
    "accelerator": "GPU",
    "colab": {
      "collapsed_sections": [],
      "name": "SBU_NLP_SS1401_RNN_vs_LSTM_vs_GRU.ipynb",
      "provenance": []
    },
    "kernelspec": {
      "display_name": "Python 3",
      "language": "python",
      "name": "python3"
    },
    "language_info": {
      "codemirror_mode": {
        "name": "ipython",
        "version": 3
      },
      "file_extension": ".py",
      "mimetype": "text/x-python",
      "name": "python",
      "nbconvert_exporter": "python",
      "pygments_lexer": "ipython3",
      "version": "3.6.3"
    }
  },
  "nbformat": 4,
  "nbformat_minor": 0
}
